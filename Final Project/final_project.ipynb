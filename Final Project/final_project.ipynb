{
 "cells": [
  {
   "cell_type": "markdown",
   "id": "a782d461-e3d5-488d-bcfb-17fd4033d70c",
   "metadata": {},
   "source": [
    "# Project Title: Lung Cancer Prediction using Machine Learning\n",
    "\n",
    "   ### Name: Midlaj\n",
    "   ### Organization: Entri Elevate\n",
    "\n",
    "## Overview\n",
    "This project aims to build a machine learning-based classification system to predict the presence of lung cancer in patients. It involves extensive data preprocessing, feature selection, and the evaluation of multiple machine learning algorithms to identify the most accurate model. The study emphasizes early detection of lung cancer using clinical and genetic data, which can potentially improve patient outcomes.\n",
    "\n",
    "## Objective\n",
    "   The primary objectives of this project are:\n",
    "\n",
    "    To explore and analyze patient data related to lung cancer.\n",
    "\n",
    "    To preprocess the dataset by handling missing values, outliers, and class imbalances.\n",
    "\n",
    "    To apply and compare multiple classification algorithms for predicting lung cancer.\n",
    "\n",
    "    To evaluate models using metrics like accuracy, precision, recall, F1-score.\n",
    "\n",
    "    To identify the best-performing model for reliable lung cancer prediction.\n",
    "\n",
    "## Data Description\n",
    "  The dataset used in this project is titled lung cancer.csv and includes patient-level data with the following features:\n",
    "\n",
    "### Categorical Features:\n",
    "\n",
    "       Gender\n",
    "\n",
    "       Smoking History\n",
    "\n",
    "       Family History\n",
    "\n",
    "       Treatment History\n",
    "\n",
    "       Mutation Type\n",
    "\n",
    "       Biopsy Result\n",
    "\n",
    "       Gene\n",
    "\n",
    "### Numerical Features:\n",
    "\n",
    "    Various numeric health indicators (unspecified in the preview)\n",
    "\n",
    "### Target Variable:\n",
    "\n",
    "     Lung Cancer: Binary classification label indicating the presence (1) or absence (0) of lung cancer.    \n",
    "\n",
    "\n",
    "## Description:\n",
    "\n",
    "This project focuses on predicting lung cancer based on patient data using various machine learning classification algorithms. The dataset includes multiple features such as treatment history, mutation type, and genetic factors. The steps taken in this project include:\n",
    "\n",
    "### Data Cleaning and Preprocessing:\n",
    "\n",
    "### Removing duplicates.\n",
    "\n",
    "### Handling missing values using SimpleImputer.\n",
    "\n",
    "### Dealing with class imbalance using SMOTE (Synthetic Minority Over-sampling Technique).\n",
    "\n",
    "#### Outlier detection through visualization (boxplots).\n",
    "\n",
    "### Exploratory Data Analysis (EDA):\n",
    "\n",
    "     Summary statistics, distribution checks, and data type analysis.\n",
    "\n",
    "     Visualization of data patterns and potential outliers.\n",
    "\n",
    "### Feature Selection and Scaling:\n",
    "\n",
    "    Using SelectKBest and StandardScaler to prepare features for modeling.\n",
    "\n",
    "### Modeling:\n",
    "\n",
    "    Implementation of multiple classification algorithms including:\n",
    "\n",
    "      Logistic Regression\n",
    "\n",
    "      Support Vector Machine (SVC)\n",
    "\n",
    "      Decision Tree\n",
    "\n",
    "      Random Forest\n",
    "\n",
    "      K-Nearest Neighbors (KNN)\n",
    "\n",
    "      Naive Bayes\n",
    "\n",
    "     Gradient Boosting\n",
    "\n",
    "     AdaBoost\n",
    "\n",
    "     Multi-Layer Perceptron (MLP)\n",
    "\n",
    "### Evaluation:\n",
    "\n",
    "    Performance metrics used include accuracy, precision, recall, F1-score, confusion matrix,"
   ]
  },
  {
   "cell_type": "markdown",
   "id": "14ffdcf6-d72d-4cdc-9227-b3cb2f509e5b",
   "metadata": {},
   "source": [
    "import pandas as pd\n",
    "import numpy as np\n",
    "import matplotlib.pyplot as plt\n",
    "import seaborn as sns\n",
    "from scipy import stats\n",
    "from sklearn.impute import SimpleImputer\n",
    "from sklearn.model_selection import train_test_split\n",
    "from sklearn.feature_selection import SelectKBest,f_classif\n",
    "from sklearn.preprocessing import StandardScaler\n",
    "from imblearn.over_sampling import SMOTE\n",
    "from sklearn.linear_model import LogisticRegression\n",
    "from sklearn.svm import SVC\n",
    "from sklearn.ensemble import RandomForestClassifier,GradientBoostingClassifier,AdaBoostClassifier\n",
    "from sklearn.naive_bayes import GaussianNB\n",
    "from sklearn.tree import DecisionTreeClassifier\n",
    "from sklearn.neighbors import KNeighborsClassifier\n",
    "from sklearn.neural_network import MLPClassifier\n",
    "from sklearn.metrics import accuracy_score,precision_score,f1_score,classification_report,confusion_matrix,recall_score,roc_curve, roc_auc_score"
   ]
  },
  {
   "cell_type": "markdown",
   "id": "c373cb5d-c53c-4813-a2ab-a1bfecb3807f",
   "metadata": {},
   "source": [
    "## Importing data"
   ]
  },
  {
   "cell_type": "code",
   "execution_count": 87,
   "id": "63a57b12-3d24-454c-b4b5-43545ad1e7b5",
   "metadata": {},
   "outputs": [],
   "source": [
    "import pandas as pd\n",
    "import numpy as np\n",
    "import matplotlib.pyplot as plt\n",
    "import seaborn as sns\n",
    "from scipy import stats\n",
    "from sklearn.impute import SimpleImputer\n",
    "from sklearn.model_selection import train_test_split\n",
    "from sklearn.feature_selection import SelectKBest,f_classif\n",
    "from sklearn.preprocessing import StandardScaler\n",
    "from imblearn.over_sampling import SMOTE\n",
    "from sklearn.linear_model import LogisticRegression\n",
    "from sklearn.svm import SVC\n",
    "from sklearn.ensemble import RandomForestClassifier,GradientBoostingClassifier,AdaBoostClassifier\n",
    "from sklearn.naive_bayes import GaussianNB\n",
    "from sklearn.tree import DecisionTreeClassifier\n",
    "from sklearn.neighbors import KNeighborsClassifier\n",
    "from sklearn.neural_network import MLPClassifier\n",
    "from sklearn.metrics import accuracy_score,precision_score,f1_score,classification_report,confusion_matrix,recall_score,roc_curve, roc_auc_score"
   ]
  },
  {
   "cell_type": "code",
   "execution_count": 88,
   "id": "e8f22c6a-c535-44cd-8fbd-050b71578998",
   "metadata": {},
   "outputs": [],
   "source": [
    "df = pd.read_csv('lung cancer.csv')"
   ]
  },
  {
   "cell_type": "code",
   "execution_count": 89,
   "id": "42d7d27d-facf-4a1b-9923-46f025b434d8",
   "metadata": {},
   "outputs": [],
   "source": [
    "#basic detiles of the data"
   ]
  },
  {
   "cell_type": "code",
   "execution_count": 90,
   "id": "07e26d0d-162d-4264-ae97-9e0fe1b25750",
   "metadata": {},
   "outputs": [
    {
     "data": {
      "text/html": [
       "<div>\n",
       "<style scoped>\n",
       "    .dataframe tbody tr th:only-of-type {\n",
       "        vertical-align: middle;\n",
       "    }\n",
       "\n",
       "    .dataframe tbody tr th {\n",
       "        vertical-align: top;\n",
       "    }\n",
       "\n",
       "    .dataframe thead th {\n",
       "        text-align: right;\n",
       "    }\n",
       "</style>\n",
       "<table border=\"1\" class=\"dataframe\">\n",
       "  <thead>\n",
       "    <tr style=\"text-align: right;\">\n",
       "      <th></th>\n",
       "      <th>Patient ID</th>\n",
       "      <th>Age</th>\n",
       "      <th>Gender</th>\n",
       "      <th>Smoking History</th>\n",
       "      <th>Family History</th>\n",
       "      <th>Treatment History</th>\n",
       "      <th>ctDNA Concentration (ng/mL)</th>\n",
       "      <th>Mutation Type</th>\n",
       "      <th>Gene</th>\n",
       "      <th>Tumor Size (cm)</th>\n",
       "      <th>Biopsy Result</th>\n",
       "      <th>VOC1 Concentration (ppm)</th>\n",
       "      <th>VOC2 Concentration (ppm)</th>\n",
       "      <th>Lung Cancer</th>\n",
       "    </tr>\n",
       "  </thead>\n",
       "  <tbody>\n",
       "    <tr>\n",
       "      <th>0</th>\n",
       "      <td>1</td>\n",
       "      <td>53</td>\n",
       "      <td>Male</td>\n",
       "      <td>Yes</td>\n",
       "      <td>No</td>\n",
       "      <td>NaN</td>\n",
       "      <td>0.02</td>\n",
       "      <td>Deletion</td>\n",
       "      <td>NaN</td>\n",
       "      <td>2.5</td>\n",
       "      <td>Positive</td>\n",
       "      <td>0.17</td>\n",
       "      <td>0.22</td>\n",
       "      <td>Yes</td>\n",
       "    </tr>\n",
       "    <tr>\n",
       "      <th>1</th>\n",
       "      <td>2</td>\n",
       "      <td>66</td>\n",
       "      <td>Female</td>\n",
       "      <td>No</td>\n",
       "      <td>No</td>\n",
       "      <td>Radiotherapy</td>\n",
       "      <td>1.61</td>\n",
       "      <td>Insertion</td>\n",
       "      <td>KRAS</td>\n",
       "      <td>1.1</td>\n",
       "      <td>Positive</td>\n",
       "      <td>0.18</td>\n",
       "      <td>0.39</td>\n",
       "      <td>Yes</td>\n",
       "    </tr>\n",
       "    <tr>\n",
       "      <th>2</th>\n",
       "      <td>3</td>\n",
       "      <td>40</td>\n",
       "      <td>Female</td>\n",
       "      <td>No</td>\n",
       "      <td>No</td>\n",
       "      <td>NaN</td>\n",
       "      <td>1.36</td>\n",
       "      <td>Deletion</td>\n",
       "      <td>EGFR</td>\n",
       "      <td>4.7</td>\n",
       "      <td>Negative</td>\n",
       "      <td>0.26</td>\n",
       "      <td>0.31</td>\n",
       "      <td>Yes</td>\n",
       "    </tr>\n",
       "    <tr>\n",
       "      <th>3</th>\n",
       "      <td>4</td>\n",
       "      <td>43</td>\n",
       "      <td>Male</td>\n",
       "      <td>Yes</td>\n",
       "      <td>No</td>\n",
       "      <td>Chemotherapy</td>\n",
       "      <td>1.93</td>\n",
       "      <td>Insertion</td>\n",
       "      <td>NaN</td>\n",
       "      <td>1.7</td>\n",
       "      <td>Positive</td>\n",
       "      <td>0.26</td>\n",
       "      <td>0.29</td>\n",
       "      <td>Yes</td>\n",
       "    </tr>\n",
       "    <tr>\n",
       "      <th>4</th>\n",
       "      <td>5</td>\n",
       "      <td>44</td>\n",
       "      <td>Female</td>\n",
       "      <td>No</td>\n",
       "      <td>Yes</td>\n",
       "      <td>NaN</td>\n",
       "      <td>0.63</td>\n",
       "      <td>Deletion</td>\n",
       "      <td>EGFR</td>\n",
       "      <td>5.4</td>\n",
       "      <td>Negative</td>\n",
       "      <td>0.22</td>\n",
       "      <td>0.36</td>\n",
       "      <td>Yes</td>\n",
       "    </tr>\n",
       "  </tbody>\n",
       "</table>\n",
       "</div>"
      ],
      "text/plain": [
       "   Patient ID  Age  Gender Smoking History Family History Treatment History  \\\n",
       "0           1   53    Male             Yes             No               NaN   \n",
       "1           2   66  Female              No             No      Radiotherapy   \n",
       "2           3   40  Female              No             No               NaN   \n",
       "3           4   43    Male             Yes             No      Chemotherapy   \n",
       "4           5   44  Female              No            Yes               NaN   \n",
       "\n",
       "   ctDNA Concentration (ng/mL) Mutation Type  Gene  Tumor Size (cm)  \\\n",
       "0                         0.02      Deletion   NaN              2.5   \n",
       "1                         1.61     Insertion  KRAS              1.1   \n",
       "2                         1.36      Deletion  EGFR              4.7   \n",
       "3                         1.93     Insertion   NaN              1.7   \n",
       "4                         0.63      Deletion  EGFR              5.4   \n",
       "\n",
       "  Biopsy Result  VOC1 Concentration (ppm)  VOC2 Concentration (ppm)  \\\n",
       "0      Positive                      0.17                      0.22   \n",
       "1      Positive                      0.18                      0.39   \n",
       "2      Negative                      0.26                      0.31   \n",
       "3      Positive                      0.26                      0.29   \n",
       "4      Negative                      0.22                      0.36   \n",
       "\n",
       "  Lung Cancer  \n",
       "0         Yes  \n",
       "1         Yes  \n",
       "2         Yes  \n",
       "3         Yes  \n",
       "4         Yes  "
      ]
     },
     "execution_count": 90,
     "metadata": {},
     "output_type": "execute_result"
    }
   ],
   "source": [
    "df.head()"
   ]
  },
  {
   "cell_type": "code",
   "execution_count": 91,
   "id": "1ed0c380-7bfc-4163-b4d6-c8a08cbeeff4",
   "metadata": {},
   "outputs": [
    {
     "data": {
      "text/html": [
       "<div>\n",
       "<style scoped>\n",
       "    .dataframe tbody tr th:only-of-type {\n",
       "        vertical-align: middle;\n",
       "    }\n",
       "\n",
       "    .dataframe tbody tr th {\n",
       "        vertical-align: top;\n",
       "    }\n",
       "\n",
       "    .dataframe thead th {\n",
       "        text-align: right;\n",
       "    }\n",
       "</style>\n",
       "<table border=\"1\" class=\"dataframe\">\n",
       "  <thead>\n",
       "    <tr style=\"text-align: right;\">\n",
       "      <th></th>\n",
       "      <th>Patient ID</th>\n",
       "      <th>Age</th>\n",
       "      <th>Gender</th>\n",
       "      <th>Smoking History</th>\n",
       "      <th>Family History</th>\n",
       "      <th>Treatment History</th>\n",
       "      <th>ctDNA Concentration (ng/mL)</th>\n",
       "      <th>Mutation Type</th>\n",
       "      <th>Gene</th>\n",
       "      <th>Tumor Size (cm)</th>\n",
       "      <th>Biopsy Result</th>\n",
       "      <th>VOC1 Concentration (ppm)</th>\n",
       "      <th>VOC2 Concentration (ppm)</th>\n",
       "      <th>Lung Cancer</th>\n",
       "    </tr>\n",
       "  </thead>\n",
       "  <tbody>\n",
       "    <tr>\n",
       "      <th>8791</th>\n",
       "      <td>8792</td>\n",
       "      <td>55</td>\n",
       "      <td>Female</td>\n",
       "      <td>Yes</td>\n",
       "      <td>No</td>\n",
       "      <td>Surgery</td>\n",
       "      <td>0.74</td>\n",
       "      <td>NaN</td>\n",
       "      <td>EGFR</td>\n",
       "      <td>5.9</td>\n",
       "      <td>Negative</td>\n",
       "      <td>0.25</td>\n",
       "      <td>0.13</td>\n",
       "      <td>Yes</td>\n",
       "    </tr>\n",
       "    <tr>\n",
       "      <th>8792</th>\n",
       "      <td>8793</td>\n",
       "      <td>67</td>\n",
       "      <td>Male</td>\n",
       "      <td>No</td>\n",
       "      <td>No</td>\n",
       "      <td>Surgery</td>\n",
       "      <td>1.41</td>\n",
       "      <td>Deletion</td>\n",
       "      <td>TP53</td>\n",
       "      <td>4.6</td>\n",
       "      <td>Negative</td>\n",
       "      <td>0.26</td>\n",
       "      <td>0.26</td>\n",
       "      <td>Yes</td>\n",
       "    </tr>\n",
       "    <tr>\n",
       "      <th>8793</th>\n",
       "      <td>8794</td>\n",
       "      <td>40</td>\n",
       "      <td>Female</td>\n",
       "      <td>Yes</td>\n",
       "      <td>No</td>\n",
       "      <td>Surgery</td>\n",
       "      <td>1.61</td>\n",
       "      <td>Insertion</td>\n",
       "      <td>KRAS</td>\n",
       "      <td>3.1</td>\n",
       "      <td>Positive</td>\n",
       "      <td>0.25</td>\n",
       "      <td>0.21</td>\n",
       "      <td>Yes</td>\n",
       "    </tr>\n",
       "    <tr>\n",
       "      <th>8794</th>\n",
       "      <td>8795</td>\n",
       "      <td>52</td>\n",
       "      <td>Female</td>\n",
       "      <td>No</td>\n",
       "      <td>Yes</td>\n",
       "      <td>Chemotherapy</td>\n",
       "      <td>0.07</td>\n",
       "      <td>NaN</td>\n",
       "      <td>TP53</td>\n",
       "      <td>1.5</td>\n",
       "      <td>Positive</td>\n",
       "      <td>0.39</td>\n",
       "      <td>0.39</td>\n",
       "      <td>Yes</td>\n",
       "    </tr>\n",
       "    <tr>\n",
       "      <th>8795</th>\n",
       "      <td>8796</td>\n",
       "      <td>40</td>\n",
       "      <td>Male</td>\n",
       "      <td>No</td>\n",
       "      <td>No</td>\n",
       "      <td>Chemotherapy</td>\n",
       "      <td>0.83</td>\n",
       "      <td>Point Mutation</td>\n",
       "      <td>NaN</td>\n",
       "      <td>5.9</td>\n",
       "      <td>Positive</td>\n",
       "      <td>0.13</td>\n",
       "      <td>0.36</td>\n",
       "      <td>Yes</td>\n",
       "    </tr>\n",
       "  </tbody>\n",
       "</table>\n",
       "</div>"
      ],
      "text/plain": [
       "      Patient ID  Age  Gender Smoking History Family History  \\\n",
       "8791        8792   55  Female             Yes             No   \n",
       "8792        8793   67    Male              No             No   \n",
       "8793        8794   40  Female             Yes             No   \n",
       "8794        8795   52  Female              No            Yes   \n",
       "8795        8796   40    Male              No             No   \n",
       "\n",
       "     Treatment History  ctDNA Concentration (ng/mL)   Mutation Type  Gene  \\\n",
       "8791           Surgery                         0.74             NaN  EGFR   \n",
       "8792           Surgery                         1.41        Deletion  TP53   \n",
       "8793           Surgery                         1.61       Insertion  KRAS   \n",
       "8794      Chemotherapy                         0.07             NaN  TP53   \n",
       "8795      Chemotherapy                         0.83  Point Mutation   NaN   \n",
       "\n",
       "      Tumor Size (cm) Biopsy Result  VOC1 Concentration (ppm)  \\\n",
       "8791              5.9      Negative                      0.25   \n",
       "8792              4.6      Negative                      0.26   \n",
       "8793              3.1      Positive                      0.25   \n",
       "8794              1.5      Positive                      0.39   \n",
       "8795              5.9      Positive                      0.13   \n",
       "\n",
       "      VOC2 Concentration (ppm) Lung Cancer  \n",
       "8791                      0.13         Yes  \n",
       "8792                      0.26         Yes  \n",
       "8793                      0.21         Yes  \n",
       "8794                      0.39         Yes  \n",
       "8795                      0.36         Yes  "
      ]
     },
     "execution_count": 91,
     "metadata": {},
     "output_type": "execute_result"
    }
   ],
   "source": [
    "df.tail()"
   ]
  },
  {
   "cell_type": "code",
   "execution_count": 92,
   "id": "32bd5052-d5c8-4a57-8567-0a41a35229ec",
   "metadata": {},
   "outputs": [
    {
     "data": {
      "text/plain": [
       "Index(['Patient ID', 'Age', 'Gender', 'Smoking History', 'Family History',\n",
       "       'Treatment History', 'ctDNA Concentration (ng/mL)', 'Mutation Type',\n",
       "       'Gene', 'Tumor Size (cm)', 'Biopsy Result', 'VOC1 Concentration (ppm)',\n",
       "       'VOC2 Concentration (ppm)', 'Lung Cancer'],\n",
       "      dtype='object')"
      ]
     },
     "execution_count": 92,
     "metadata": {},
     "output_type": "execute_result"
    }
   ],
   "source": [
    "df.columns"
   ]
  },
  {
   "cell_type": "code",
   "execution_count": 93,
   "id": "a7f86b20-4428-49cd-81bf-1d5d91727663",
   "metadata": {},
   "outputs": [
    {
     "name": "stdout",
     "output_type": "stream",
     "text": [
      "<class 'pandas.core.frame.DataFrame'>\n",
      "RangeIndex: 8796 entries, 0 to 8795\n",
      "Data columns (total 14 columns):\n",
      " #   Column                       Non-Null Count  Dtype  \n",
      "---  ------                       --------------  -----  \n",
      " 0   Patient ID                   8796 non-null   int64  \n",
      " 1   Age                          8796 non-null   int64  \n",
      " 2   Gender                       8796 non-null   object \n",
      " 3   Smoking History              8796 non-null   object \n",
      " 4   Family History               8796 non-null   object \n",
      " 5   Treatment History            6567 non-null   object \n",
      " 6   ctDNA Concentration (ng/mL)  8796 non-null   float64\n",
      " 7   Mutation Type                6614 non-null   object \n",
      " 8   Gene                         7043 non-null   object \n",
      " 9   Tumor Size (cm)              8796 non-null   float64\n",
      " 10  Biopsy Result                8796 non-null   object \n",
      " 11  VOC1 Concentration (ppm)     8796 non-null   float64\n",
      " 12  VOC2 Concentration (ppm)     8796 non-null   float64\n",
      " 13  Lung Cancer                  8796 non-null   object \n",
      "dtypes: float64(4), int64(2), object(8)\n",
      "memory usage: 962.2+ KB\n",
      "None\n"
     ]
    }
   ],
   "source": [
    "print(df.info())"
   ]
  },
  {
   "cell_type": "code",
   "execution_count": 94,
   "id": "425b8d62-237f-480f-8c11-430cb3f5678a",
   "metadata": {},
   "outputs": [
    {
     "data": {
      "text/html": [
       "<div>\n",
       "<style scoped>\n",
       "    .dataframe tbody tr th:only-of-type {\n",
       "        vertical-align: middle;\n",
       "    }\n",
       "\n",
       "    .dataframe tbody tr th {\n",
       "        vertical-align: top;\n",
       "    }\n",
       "\n",
       "    .dataframe thead th {\n",
       "        text-align: right;\n",
       "    }\n",
       "</style>\n",
       "<table border=\"1\" class=\"dataframe\">\n",
       "  <thead>\n",
       "    <tr style=\"text-align: right;\">\n",
       "      <th></th>\n",
       "      <th>Patient ID</th>\n",
       "      <th>Age</th>\n",
       "      <th>ctDNA Concentration (ng/mL)</th>\n",
       "      <th>Tumor Size (cm)</th>\n",
       "      <th>VOC1 Concentration (ppm)</th>\n",
       "      <th>VOC2 Concentration (ppm)</th>\n",
       "    </tr>\n",
       "  </thead>\n",
       "  <tbody>\n",
       "    <tr>\n",
       "      <th>count</th>\n",
       "      <td>8796.000000</td>\n",
       "      <td>8796.000000</td>\n",
       "      <td>8796.000000</td>\n",
       "      <td>8796.000000</td>\n",
       "      <td>8796.000000</td>\n",
       "      <td>8796.000000</td>\n",
       "    </tr>\n",
       "    <tr>\n",
       "      <th>mean</th>\n",
       "      <td>4398.500000</td>\n",
       "      <td>54.652001</td>\n",
       "      <td>0.993208</td>\n",
       "      <td>3.516405</td>\n",
       "      <td>0.273246</td>\n",
       "      <td>0.276061</td>\n",
       "    </tr>\n",
       "    <tr>\n",
       "      <th>std</th>\n",
       "      <td>2539.330817</td>\n",
       "      <td>14.430464</td>\n",
       "      <td>0.579690</td>\n",
       "      <td>1.447529</td>\n",
       "      <td>0.130722</td>\n",
       "      <td>0.130269</td>\n",
       "    </tr>\n",
       "    <tr>\n",
       "      <th>min</th>\n",
       "      <td>1.000000</td>\n",
       "      <td>30.000000</td>\n",
       "      <td>0.000000</td>\n",
       "      <td>1.000000</td>\n",
       "      <td>0.050000</td>\n",
       "      <td>0.050000</td>\n",
       "    </tr>\n",
       "    <tr>\n",
       "      <th>25%</th>\n",
       "      <td>2199.750000</td>\n",
       "      <td>42.000000</td>\n",
       "      <td>0.490000</td>\n",
       "      <td>2.300000</td>\n",
       "      <td>0.160000</td>\n",
       "      <td>0.160000</td>\n",
       "    </tr>\n",
       "    <tr>\n",
       "      <th>50%</th>\n",
       "      <td>4398.500000</td>\n",
       "      <td>55.000000</td>\n",
       "      <td>0.980000</td>\n",
       "      <td>3.500000</td>\n",
       "      <td>0.280000</td>\n",
       "      <td>0.280000</td>\n",
       "    </tr>\n",
       "    <tr>\n",
       "      <th>75%</th>\n",
       "      <td>6597.250000</td>\n",
       "      <td>67.000000</td>\n",
       "      <td>1.500000</td>\n",
       "      <td>4.800000</td>\n",
       "      <td>0.390000</td>\n",
       "      <td>0.390000</td>\n",
       "    </tr>\n",
       "    <tr>\n",
       "      <th>max</th>\n",
       "      <td>8796.000000</td>\n",
       "      <td>79.000000</td>\n",
       "      <td>2.000000</td>\n",
       "      <td>6.000000</td>\n",
       "      <td>0.500000</td>\n",
       "      <td>0.500000</td>\n",
       "    </tr>\n",
       "  </tbody>\n",
       "</table>\n",
       "</div>"
      ],
      "text/plain": [
       "        Patient ID          Age  ctDNA Concentration (ng/mL)  Tumor Size (cm)  \\\n",
       "count  8796.000000  8796.000000                  8796.000000      8796.000000   \n",
       "mean   4398.500000    54.652001                     0.993208         3.516405   \n",
       "std    2539.330817    14.430464                     0.579690         1.447529   \n",
       "min       1.000000    30.000000                     0.000000         1.000000   \n",
       "25%    2199.750000    42.000000                     0.490000         2.300000   \n",
       "50%    4398.500000    55.000000                     0.980000         3.500000   \n",
       "75%    6597.250000    67.000000                     1.500000         4.800000   \n",
       "max    8796.000000    79.000000                     2.000000         6.000000   \n",
       "\n",
       "       VOC1 Concentration (ppm)  VOC2 Concentration (ppm)  \n",
       "count               8796.000000               8796.000000  \n",
       "mean                   0.273246                  0.276061  \n",
       "std                    0.130722                  0.130269  \n",
       "min                    0.050000                  0.050000  \n",
       "25%                    0.160000                  0.160000  \n",
       "50%                    0.280000                  0.280000  \n",
       "75%                    0.390000                  0.390000  \n",
       "max                    0.500000                  0.500000  "
      ]
     },
     "execution_count": 94,
     "metadata": {},
     "output_type": "execute_result"
    }
   ],
   "source": [
    "df.describe()"
   ]
  },
  {
   "cell_type": "code",
   "execution_count": 95,
   "id": "8f517670-0d33-424a-9226-cacc4cc97176",
   "metadata": {},
   "outputs": [
    {
     "data": {
      "text/plain": [
       "(8796, 14)"
      ]
     },
     "execution_count": 95,
     "metadata": {},
     "output_type": "execute_result"
    }
   ],
   "source": [
    "df.shape"
   ]
  },
  {
   "cell_type": "markdown",
   "id": "e9d2bd01-9039-4262-ac30-8299f6547c5b",
   "metadata": {},
   "source": []
  },
  {
   "cell_type": "code",
   "execution_count": 96,
   "id": "835bee8c-7c81-40b0-80b8-c1b3f0f1d87a",
   "metadata": {},
   "outputs": [
    {
     "data": {
      "text/plain": [
       "object     8\n",
       "float64    4\n",
       "int64      2\n",
       "Name: count, dtype: int64"
      ]
     },
     "execution_count": 96,
     "metadata": {},
     "output_type": "execute_result"
    }
   ],
   "source": [
    "df.dtypes.value_counts()"
   ]
  },
  {
   "cell_type": "code",
   "execution_count": 97,
   "id": "cdc6b57a-2836-4b64-8fc6-974595ed36de",
   "metadata": {},
   "outputs": [
    {
     "data": {
      "text/plain": [
       "Patient ID                     8796\n",
       "Age                              50\n",
       "Gender                            2\n",
       "Smoking History                   2\n",
       "Family History                    2\n",
       "Treatment History                 3\n",
       "ctDNA Concentration (ng/mL)     201\n",
       "Mutation Type                     3\n",
       "Gene                              4\n",
       "Tumor Size (cm)                  51\n",
       "Biopsy Result                     2\n",
       "VOC1 Concentration (ppm)         46\n",
       "VOC2 Concentration (ppm)         46\n",
       "Lung Cancer                       2\n",
       "dtype: int64"
      ]
     },
     "execution_count": 97,
     "metadata": {},
     "output_type": "execute_result"
    }
   ],
   "source": [
    "df.nunique()"
   ]
  },
  {
   "cell_type": "code",
   "execution_count": 98,
   "id": "b9310d8d-a70d-4a4d-af9b-f6e0803f5575",
   "metadata": {},
   "outputs": [],
   "source": [
    "#"
   ]
  },
  {
   "cell_type": "code",
   "execution_count": 99,
   "id": "c40228d4-22b0-4747-930b-4792c96e2778",
   "metadata": {},
   "outputs": [],
   "source": [
    "# Check for Duplicates / drop\n",
    "\n",
    "df.duplicated().sum()\n",
    "df.drop_duplicates(inplace=True)\n"
   ]
  },
  {
   "cell_type": "code",
   "execution_count": 100,
   "id": "d9d0d501-bca8-41d2-a1bd-a06b844c0aa5",
   "metadata": {},
   "outputs": [
    {
     "name": "stdout",
     "output_type": "stream",
     "text": [
      "Patient ID                        0\n",
      "Age                               0\n",
      "Gender                            0\n",
      "Smoking History                   0\n",
      "Family History                    0\n",
      "Treatment History              2229\n",
      "ctDNA Concentration (ng/mL)       0\n",
      "Mutation Type                  2182\n",
      "Gene                           1753\n",
      "Tumor Size (cm)                   0\n",
      "Biopsy Result                     0\n",
      "VOC1 Concentration (ppm)          0\n",
      "VOC2 Concentration (ppm)          0\n",
      "Lung Cancer                       0\n",
      "dtype: int64\n"
     ]
    }
   ],
   "source": [
    "# Check for missing values\n",
    "\n",
    "print(df.isnull().sum())"
   ]
  },
  {
   "cell_type": "code",
   "execution_count": null,
   "id": "02329c81-7195-4871-a46e-300b959aecfe",
   "metadata": {},
   "outputs": [],
   "source": []
  },
  {
   "cell_type": "code",
   "execution_count": 101,
   "id": "232854b7-7ec0-4056-9af3-86e2ab28c20e",
   "metadata": {},
   "outputs": [],
   "source": [
    "#HANDLING MISSING VALUES"
   ]
  },
  {
   "cell_type": "code",
   "execution_count": 102,
   "id": "eec16508-dd41-48ba-b405-bf96352221fc",
   "metadata": {},
   "outputs": [],
   "source": [
    "imputer = SimpleImputer(strategy='most_frequent')"
   ]
  },
  {
   "cell_type": "code",
   "execution_count": 103,
   "id": "26870dc6-56de-4fd1-9eeb-64ae080865cc",
   "metadata": {},
   "outputs": [],
   "source": [
    "# Impute missing values for categorical columns\n",
    "df[['Treatment History', 'Mutation Type', 'Gene']] = imputer.fit_transform(\n",
    "df[['Treatment History', 'Mutation Type', 'Gene']])\n"
   ]
  },
  {
   "cell_type": "code",
   "execution_count": 104,
   "id": "41c67d05-53a4-4c2e-af67-688f7497aab0",
   "metadata": {},
   "outputs": [
    {
     "name": "stdout",
     "output_type": "stream",
     "text": [
      "Patient ID                     0\n",
      "Age                            0\n",
      "Gender                         0\n",
      "Smoking History                0\n",
      "Family History                 0\n",
      "Treatment History              0\n",
      "ctDNA Concentration (ng/mL)    0\n",
      "Mutation Type                  0\n",
      "Gene                           0\n",
      "Tumor Size (cm)                0\n",
      "Biopsy Result                  0\n",
      "VOC1 Concentration (ppm)       0\n",
      "VOC2 Concentration (ppm)       0\n",
      "Lung Cancer                    0\n",
      "dtype: int64\n"
     ]
    }
   ],
   "source": [
    "print(df.isnull().sum())"
   ]
  },
  {
   "cell_type": "code",
   "execution_count": 105,
   "id": "7c9b422d-cc00-4422-9ffa-7f19d4bfe7c8",
   "metadata": {},
   "outputs": [
    {
     "data": {
      "text/html": [
       "<div>\n",
       "<style scoped>\n",
       "    .dataframe tbody tr th:only-of-type {\n",
       "        vertical-align: middle;\n",
       "    }\n",
       "\n",
       "    .dataframe tbody tr th {\n",
       "        vertical-align: top;\n",
       "    }\n",
       "\n",
       "    .dataframe thead th {\n",
       "        text-align: right;\n",
       "    }\n",
       "</style>\n",
       "<table border=\"1\" class=\"dataframe\">\n",
       "  <thead>\n",
       "    <tr style=\"text-align: right;\">\n",
       "      <th></th>\n",
       "      <th>Patient ID</th>\n",
       "      <th>Age</th>\n",
       "      <th>Gender</th>\n",
       "      <th>Smoking History</th>\n",
       "      <th>Family History</th>\n",
       "      <th>Treatment History</th>\n",
       "      <th>ctDNA Concentration (ng/mL)</th>\n",
       "      <th>Mutation Type</th>\n",
       "      <th>Gene</th>\n",
       "      <th>Tumor Size (cm)</th>\n",
       "      <th>Biopsy Result</th>\n",
       "      <th>VOC1 Concentration (ppm)</th>\n",
       "      <th>VOC2 Concentration (ppm)</th>\n",
       "      <th>Lung Cancer</th>\n",
       "    </tr>\n",
       "  </thead>\n",
       "  <tbody>\n",
       "    <tr>\n",
       "      <th>0</th>\n",
       "      <td>1</td>\n",
       "      <td>53</td>\n",
       "      <td>Male</td>\n",
       "      <td>Yes</td>\n",
       "      <td>No</td>\n",
       "      <td>Radiotherapy</td>\n",
       "      <td>0.02</td>\n",
       "      <td>Deletion</td>\n",
       "      <td>KRAS</td>\n",
       "      <td>2.5</td>\n",
       "      <td>Positive</td>\n",
       "      <td>0.17</td>\n",
       "      <td>0.22</td>\n",
       "      <td>Yes</td>\n",
       "    </tr>\n",
       "    <tr>\n",
       "      <th>1</th>\n",
       "      <td>2</td>\n",
       "      <td>66</td>\n",
       "      <td>Female</td>\n",
       "      <td>No</td>\n",
       "      <td>No</td>\n",
       "      <td>Radiotherapy</td>\n",
       "      <td>1.61</td>\n",
       "      <td>Insertion</td>\n",
       "      <td>KRAS</td>\n",
       "      <td>1.1</td>\n",
       "      <td>Positive</td>\n",
       "      <td>0.18</td>\n",
       "      <td>0.39</td>\n",
       "      <td>Yes</td>\n",
       "    </tr>\n",
       "    <tr>\n",
       "      <th>2</th>\n",
       "      <td>3</td>\n",
       "      <td>40</td>\n",
       "      <td>Female</td>\n",
       "      <td>No</td>\n",
       "      <td>No</td>\n",
       "      <td>Radiotherapy</td>\n",
       "      <td>1.36</td>\n",
       "      <td>Deletion</td>\n",
       "      <td>EGFR</td>\n",
       "      <td>4.7</td>\n",
       "      <td>Negative</td>\n",
       "      <td>0.26</td>\n",
       "      <td>0.31</td>\n",
       "      <td>Yes</td>\n",
       "    </tr>\n",
       "    <tr>\n",
       "      <th>3</th>\n",
       "      <td>4</td>\n",
       "      <td>43</td>\n",
       "      <td>Male</td>\n",
       "      <td>Yes</td>\n",
       "      <td>No</td>\n",
       "      <td>Chemotherapy</td>\n",
       "      <td>1.93</td>\n",
       "      <td>Insertion</td>\n",
       "      <td>KRAS</td>\n",
       "      <td>1.7</td>\n",
       "      <td>Positive</td>\n",
       "      <td>0.26</td>\n",
       "      <td>0.29</td>\n",
       "      <td>Yes</td>\n",
       "    </tr>\n",
       "    <tr>\n",
       "      <th>4</th>\n",
       "      <td>5</td>\n",
       "      <td>44</td>\n",
       "      <td>Female</td>\n",
       "      <td>No</td>\n",
       "      <td>Yes</td>\n",
       "      <td>Radiotherapy</td>\n",
       "      <td>0.63</td>\n",
       "      <td>Deletion</td>\n",
       "      <td>EGFR</td>\n",
       "      <td>5.4</td>\n",
       "      <td>Negative</td>\n",
       "      <td>0.22</td>\n",
       "      <td>0.36</td>\n",
       "      <td>Yes</td>\n",
       "    </tr>\n",
       "    <tr>\n",
       "      <th>...</th>\n",
       "      <td>...</td>\n",
       "      <td>...</td>\n",
       "      <td>...</td>\n",
       "      <td>...</td>\n",
       "      <td>...</td>\n",
       "      <td>...</td>\n",
       "      <td>...</td>\n",
       "      <td>...</td>\n",
       "      <td>...</td>\n",
       "      <td>...</td>\n",
       "      <td>...</td>\n",
       "      <td>...</td>\n",
       "      <td>...</td>\n",
       "      <td>...</td>\n",
       "    </tr>\n",
       "    <tr>\n",
       "      <th>8791</th>\n",
       "      <td>8792</td>\n",
       "      <td>55</td>\n",
       "      <td>Female</td>\n",
       "      <td>Yes</td>\n",
       "      <td>No</td>\n",
       "      <td>Surgery</td>\n",
       "      <td>0.74</td>\n",
       "      <td>Deletion</td>\n",
       "      <td>EGFR</td>\n",
       "      <td>5.9</td>\n",
       "      <td>Negative</td>\n",
       "      <td>0.25</td>\n",
       "      <td>0.13</td>\n",
       "      <td>Yes</td>\n",
       "    </tr>\n",
       "    <tr>\n",
       "      <th>8792</th>\n",
       "      <td>8793</td>\n",
       "      <td>67</td>\n",
       "      <td>Male</td>\n",
       "      <td>No</td>\n",
       "      <td>No</td>\n",
       "      <td>Surgery</td>\n",
       "      <td>1.41</td>\n",
       "      <td>Deletion</td>\n",
       "      <td>TP53</td>\n",
       "      <td>4.6</td>\n",
       "      <td>Negative</td>\n",
       "      <td>0.26</td>\n",
       "      <td>0.26</td>\n",
       "      <td>Yes</td>\n",
       "    </tr>\n",
       "    <tr>\n",
       "      <th>8793</th>\n",
       "      <td>8794</td>\n",
       "      <td>40</td>\n",
       "      <td>Female</td>\n",
       "      <td>Yes</td>\n",
       "      <td>No</td>\n",
       "      <td>Surgery</td>\n",
       "      <td>1.61</td>\n",
       "      <td>Insertion</td>\n",
       "      <td>KRAS</td>\n",
       "      <td>3.1</td>\n",
       "      <td>Positive</td>\n",
       "      <td>0.25</td>\n",
       "      <td>0.21</td>\n",
       "      <td>Yes</td>\n",
       "    </tr>\n",
       "    <tr>\n",
       "      <th>8794</th>\n",
       "      <td>8795</td>\n",
       "      <td>52</td>\n",
       "      <td>Female</td>\n",
       "      <td>No</td>\n",
       "      <td>Yes</td>\n",
       "      <td>Chemotherapy</td>\n",
       "      <td>0.07</td>\n",
       "      <td>Deletion</td>\n",
       "      <td>TP53</td>\n",
       "      <td>1.5</td>\n",
       "      <td>Positive</td>\n",
       "      <td>0.39</td>\n",
       "      <td>0.39</td>\n",
       "      <td>Yes</td>\n",
       "    </tr>\n",
       "    <tr>\n",
       "      <th>8795</th>\n",
       "      <td>8796</td>\n",
       "      <td>40</td>\n",
       "      <td>Male</td>\n",
       "      <td>No</td>\n",
       "      <td>No</td>\n",
       "      <td>Chemotherapy</td>\n",
       "      <td>0.83</td>\n",
       "      <td>Point Mutation</td>\n",
       "      <td>KRAS</td>\n",
       "      <td>5.9</td>\n",
       "      <td>Positive</td>\n",
       "      <td>0.13</td>\n",
       "      <td>0.36</td>\n",
       "      <td>Yes</td>\n",
       "    </tr>\n",
       "  </tbody>\n",
       "</table>\n",
       "<p>8796 rows × 14 columns</p>\n",
       "</div>"
      ],
      "text/plain": [
       "      Patient ID  Age  Gender Smoking History Family History  \\\n",
       "0              1   53    Male             Yes             No   \n",
       "1              2   66  Female              No             No   \n",
       "2              3   40  Female              No             No   \n",
       "3              4   43    Male             Yes             No   \n",
       "4              5   44  Female              No            Yes   \n",
       "...          ...  ...     ...             ...            ...   \n",
       "8791        8792   55  Female             Yes             No   \n",
       "8792        8793   67    Male              No             No   \n",
       "8793        8794   40  Female             Yes             No   \n",
       "8794        8795   52  Female              No            Yes   \n",
       "8795        8796   40    Male              No             No   \n",
       "\n",
       "     Treatment History  ctDNA Concentration (ng/mL)   Mutation Type  Gene  \\\n",
       "0         Radiotherapy                         0.02        Deletion  KRAS   \n",
       "1         Radiotherapy                         1.61       Insertion  KRAS   \n",
       "2         Radiotherapy                         1.36        Deletion  EGFR   \n",
       "3         Chemotherapy                         1.93       Insertion  KRAS   \n",
       "4         Radiotherapy                         0.63        Deletion  EGFR   \n",
       "...                ...                          ...             ...   ...   \n",
       "8791           Surgery                         0.74        Deletion  EGFR   \n",
       "8792           Surgery                         1.41        Deletion  TP53   \n",
       "8793           Surgery                         1.61       Insertion  KRAS   \n",
       "8794      Chemotherapy                         0.07        Deletion  TP53   \n",
       "8795      Chemotherapy                         0.83  Point Mutation  KRAS   \n",
       "\n",
       "      Tumor Size (cm) Biopsy Result  VOC1 Concentration (ppm)  \\\n",
       "0                 2.5      Positive                      0.17   \n",
       "1                 1.1      Positive                      0.18   \n",
       "2                 4.7      Negative                      0.26   \n",
       "3                 1.7      Positive                      0.26   \n",
       "4                 5.4      Negative                      0.22   \n",
       "...               ...           ...                       ...   \n",
       "8791              5.9      Negative                      0.25   \n",
       "8792              4.6      Negative                      0.26   \n",
       "8793              3.1      Positive                      0.25   \n",
       "8794              1.5      Positive                      0.39   \n",
       "8795              5.9      Positive                      0.13   \n",
       "\n",
       "      VOC2 Concentration (ppm) Lung Cancer  \n",
       "0                         0.22         Yes  \n",
       "1                         0.39         Yes  \n",
       "2                         0.31         Yes  \n",
       "3                         0.29         Yes  \n",
       "4                         0.36         Yes  \n",
       "...                        ...         ...  \n",
       "8791                      0.13         Yes  \n",
       "8792                      0.26         Yes  \n",
       "8793                      0.21         Yes  \n",
       "8794                      0.39         Yes  \n",
       "8795                      0.36         Yes  \n",
       "\n",
       "[8796 rows x 14 columns]"
      ]
     },
     "execution_count": 105,
     "metadata": {},
     "output_type": "execute_result"
    }
   ],
   "source": [
    "df"
   ]
  },
  {
   "cell_type": "code",
   "execution_count": 106,
   "id": "696f11eb-4e61-42ce-b904-c8963566ad49",
   "metadata": {},
   "outputs": [
    {
     "data": {
      "text/html": [
       "<div>\n",
       "<style scoped>\n",
       "    .dataframe tbody tr th:only-of-type {\n",
       "        vertical-align: middle;\n",
       "    }\n",
       "\n",
       "    .dataframe tbody tr th {\n",
       "        vertical-align: top;\n",
       "    }\n",
       "\n",
       "    .dataframe thead th {\n",
       "        text-align: right;\n",
       "    }\n",
       "</style>\n",
       "<table border=\"1\" class=\"dataframe\">\n",
       "  <thead>\n",
       "    <tr style=\"text-align: right;\">\n",
       "      <th></th>\n",
       "      <th>Patient ID</th>\n",
       "      <th>Age</th>\n",
       "      <th>Gender</th>\n",
       "      <th>Smoking History</th>\n",
       "      <th>Family History</th>\n",
       "      <th>Treatment History</th>\n",
       "      <th>ctDNA Concentration (ng/mL)</th>\n",
       "      <th>Mutation Type</th>\n",
       "      <th>Gene</th>\n",
       "      <th>Tumor Size (cm)</th>\n",
       "      <th>Biopsy Result</th>\n",
       "      <th>VOC1 Concentration (ppm)</th>\n",
       "      <th>VOC2 Concentration (ppm)</th>\n",
       "      <th>Lung Cancer</th>\n",
       "    </tr>\n",
       "  </thead>\n",
       "  <tbody>\n",
       "    <tr>\n",
       "      <th>0</th>\n",
       "      <td>1</td>\n",
       "      <td>53</td>\n",
       "      <td>Male</td>\n",
       "      <td>Yes</td>\n",
       "      <td>No</td>\n",
       "      <td>Radiotherapy</td>\n",
       "      <td>0.02</td>\n",
       "      <td>Deletion</td>\n",
       "      <td>KRAS</td>\n",
       "      <td>2.5</td>\n",
       "      <td>Positive</td>\n",
       "      <td>0.17</td>\n",
       "      <td>0.22</td>\n",
       "      <td>Yes</td>\n",
       "    </tr>\n",
       "    <tr>\n",
       "      <th>1</th>\n",
       "      <td>2</td>\n",
       "      <td>66</td>\n",
       "      <td>Female</td>\n",
       "      <td>No</td>\n",
       "      <td>No</td>\n",
       "      <td>Radiotherapy</td>\n",
       "      <td>1.61</td>\n",
       "      <td>Insertion</td>\n",
       "      <td>KRAS</td>\n",
       "      <td>1.1</td>\n",
       "      <td>Positive</td>\n",
       "      <td>0.18</td>\n",
       "      <td>0.39</td>\n",
       "      <td>Yes</td>\n",
       "    </tr>\n",
       "    <tr>\n",
       "      <th>2</th>\n",
       "      <td>3</td>\n",
       "      <td>40</td>\n",
       "      <td>Female</td>\n",
       "      <td>No</td>\n",
       "      <td>No</td>\n",
       "      <td>Radiotherapy</td>\n",
       "      <td>1.36</td>\n",
       "      <td>Deletion</td>\n",
       "      <td>EGFR</td>\n",
       "      <td>4.7</td>\n",
       "      <td>Negative</td>\n",
       "      <td>0.26</td>\n",
       "      <td>0.31</td>\n",
       "      <td>Yes</td>\n",
       "    </tr>\n",
       "    <tr>\n",
       "      <th>3</th>\n",
       "      <td>4</td>\n",
       "      <td>43</td>\n",
       "      <td>Male</td>\n",
       "      <td>Yes</td>\n",
       "      <td>No</td>\n",
       "      <td>Chemotherapy</td>\n",
       "      <td>1.93</td>\n",
       "      <td>Insertion</td>\n",
       "      <td>KRAS</td>\n",
       "      <td>1.7</td>\n",
       "      <td>Positive</td>\n",
       "      <td>0.26</td>\n",
       "      <td>0.29</td>\n",
       "      <td>Yes</td>\n",
       "    </tr>\n",
       "    <tr>\n",
       "      <th>4</th>\n",
       "      <td>5</td>\n",
       "      <td>44</td>\n",
       "      <td>Female</td>\n",
       "      <td>No</td>\n",
       "      <td>Yes</td>\n",
       "      <td>Radiotherapy</td>\n",
       "      <td>0.63</td>\n",
       "      <td>Deletion</td>\n",
       "      <td>EGFR</td>\n",
       "      <td>5.4</td>\n",
       "      <td>Negative</td>\n",
       "      <td>0.22</td>\n",
       "      <td>0.36</td>\n",
       "      <td>Yes</td>\n",
       "    </tr>\n",
       "  </tbody>\n",
       "</table>\n",
       "</div>"
      ],
      "text/plain": [
       "   Patient ID  Age  Gender Smoking History Family History Treatment History  \\\n",
       "0           1   53    Male             Yes             No      Radiotherapy   \n",
       "1           2   66  Female              No             No      Radiotherapy   \n",
       "2           3   40  Female              No             No      Radiotherapy   \n",
       "3           4   43    Male             Yes             No      Chemotherapy   \n",
       "4           5   44  Female              No            Yes      Radiotherapy   \n",
       "\n",
       "   ctDNA Concentration (ng/mL) Mutation Type  Gene  Tumor Size (cm)  \\\n",
       "0                         0.02      Deletion  KRAS              2.5   \n",
       "1                         1.61     Insertion  KRAS              1.1   \n",
       "2                         1.36      Deletion  EGFR              4.7   \n",
       "3                         1.93     Insertion  KRAS              1.7   \n",
       "4                         0.63      Deletion  EGFR              5.4   \n",
       "\n",
       "  Biopsy Result  VOC1 Concentration (ppm)  VOC2 Concentration (ppm)  \\\n",
       "0      Positive                      0.17                      0.22   \n",
       "1      Positive                      0.18                      0.39   \n",
       "2      Negative                      0.26                      0.31   \n",
       "3      Positive                      0.26                      0.29   \n",
       "4      Negative                      0.22                      0.36   \n",
       "\n",
       "  Lung Cancer  \n",
       "0         Yes  \n",
       "1         Yes  \n",
       "2         Yes  \n",
       "3         Yes  \n",
       "4         Yes  "
      ]
     },
     "execution_count": 106,
     "metadata": {},
     "output_type": "execute_result"
    }
   ],
   "source": [
    "df.head()"
   ]
  },
  {
   "cell_type": "code",
   "execution_count": 107,
   "id": "089152a5-1669-450f-9f0b-f831be351c31",
   "metadata": {},
   "outputs": [
    {
     "name": "stdout",
     "output_type": "stream",
     "text": [
      "   Patient ID  Age  Gender Smoking History Family History Treatment History  \\\n",
      "0           1   53    Male             Yes             No      Radiotherapy   \n",
      "1           2   66  Female              No             No      Radiotherapy   \n",
      "2           3   40  Female              No             No      Radiotherapy   \n",
      "3           4   43    Male             Yes             No      Chemotherapy   \n",
      "4           5   44  Female              No            Yes      Radiotherapy   \n",
      "\n",
      "   ctDNA Concentration (ng/mL) Mutation Type  Gene  Tumor Size (cm)  \\\n",
      "0                         0.02      Deletion  KRAS              2.5   \n",
      "1                         1.61     Insertion  KRAS              1.1   \n",
      "2                         1.36      Deletion  EGFR              4.7   \n",
      "3                         1.93     Insertion  KRAS              1.7   \n",
      "4                         0.63      Deletion  EGFR              5.4   \n",
      "\n",
      "  Biopsy Result  VOC1 Concentration (ppm)  VOC2 Concentration (ppm)  \\\n",
      "0      Positive                      0.17                      0.22   \n",
      "1      Positive                      0.18                      0.39   \n",
      "2      Negative                      0.26                      0.31   \n",
      "3      Positive                      0.26                      0.29   \n",
      "4      Negative                      0.22                      0.36   \n",
      "\n",
      "  Lung Cancer  \n",
      "0         Yes  \n",
      "1         Yes  \n",
      "2         Yes  \n",
      "3         Yes  \n",
      "4         Yes  \n"
     ]
    }
   ],
   "source": [
    "print(df.head())"
   ]
  },
  {
   "cell_type": "code",
   "execution_count": 108,
   "id": "df10d4ad-173e-463c-8971-a84fc8852134",
   "metadata": {},
   "outputs": [],
   "source": [
    "from imblearn.over_sampling import SMOTE\n",
    "smote = SMOTE()\n",
    "# Get the list of numeric columns excluding 'Revenue'\n",
    "numeric_cols = [i for i in df.describe(include=['float64', 'int64', 'bool']).columns if i != 'Lung Cancer']\n",
    "\n",
    "# Apply SMOTE\n",
    "x_smote, y_smote = smote.fit_resample(df[numeric_cols], df['Lung Cancer'])\n"
   ]
  },
  {
   "cell_type": "markdown",
   "id": "d0144ac9-6612-4a26-8e36-336ae128af9e",
   "metadata": {},
   "source": [
    "## Finding outliers& remove"
   ]
  },
  {
   "cell_type": "code",
   "execution_count": 109,
   "id": "0019507a-86fb-422d-9a6c-66831f089f20",
   "metadata": {},
   "outputs": [],
   "source": [
    "num_columns=df.select_dtypes(include=('float64','int64'))"
   ]
  },
  {
   "cell_type": "code",
   "execution_count": 110,
   "id": "285e07ce-b817-41ef-9691-c5f646ee61e9",
   "metadata": {},
   "outputs": [
    {
     "data": {
      "image/png": "[encoded data removed]",
      "text/plain": [
       "<Figure size 640x480 with 1 Axes>"
      ]
     },
     "metadata": {},
     "output_type": "display_data"
    },
    {
     "data": {
      "image/png": "[encoded data removed]",
      "text/plain": [
       "<Figure size 640x480 with 1 Axes>"
      ]
     },
     "metadata": {},
     "output_type": "display_data"
    },
    {
     "data": {
      "image/png": "[encoded data removed]",
      "text/plain": [
       "<Figure size 640x480 with 1 Axes>"
      ]
     },
     "metadata": {},
     "output_type": "display_data"
    },
    {
     "data": {
      "image/png": "[encoded data removed]",
      "text/plain": [
       "<Figure size 640x480 with 1 Axes>"
      ]
     },
     "metadata": {},
     "output_type": "display_data"
    },
    {
     "data": {
      "image/png": "[encoded data removed]",
      "text/plain": [
       "<Figure size 640x480 with 1 Axes>"
      ]
     },
     "metadata": {},
     "output_type": "display_data"
    },
    {
     "data": {
      "image/png": "[encoded data removed]",
      "text/plain": [
       "<Figure size 640x480 with 1 Axes>"
      ]
     },
     "metadata": {},
     "output_type": "display_data"
    }
   ],
   "source": [
    "for i in num_columns.columns:\n",
    "    sns.boxplot(data=df,x=i)\n",
    "    plt.show()"
   ]
  },
  {
   "cell_type": "code",
   "execution_count": 111,
   "id": "f20cf2ca-e9a1-40ed-8f4b-59dd43ccefe5",
   "metadata": {},
   "outputs": [],
   "source": [
    "#iqr\n",
    "\n",
    "def outliers(df):\n",
    "    for col in df.select_dtypes(include=['int64', 'float64']).columns:\n",
    "        Q1 = df[col].quantile(0.25)\n",
    "        Q3 = df[col].quantile(0.75)\n",
    "        IQR = Q3 - Q1\n",
    "\n",
    "        lower = Q1 - (1.5 * IQR)\n",
    "        upper = Q3 + (1.5 * IQR)\n",
    "\n",
    "        # Capping the outliers\n",
    "        df[col] = df[col].apply(lambda x: lower if x < lower else upper if x > upper else x)\n",
    "\n",
    "    return df\n",
    "    "
   ]
  },
  {
   "cell_type": "code",
   "execution_count": 112,
   "id": "b79a02d3-cff6-4ce9-8371-a9b76569931d",
   "metadata": {},
   "outputs": [],
   "source": [
    "df1= outliers(df)"
   ]
  },
  {
   "cell_type": "code",
   "execution_count": 113,
   "id": "8e4191cd-d546-482a-936b-af9a8a6a332c",
   "metadata": {},
   "outputs": [
    {
     "name": "stdout",
     "output_type": "stream",
     "text": [
      "      Patient ID  Age  Gender Smoking History Family History  \\\n",
      "0              1   53    Male             Yes             No   \n",
      "1              2   66  Female              No             No   \n",
      "2              3   40  Female              No             No   \n",
      "3              4   43    Male             Yes             No   \n",
      "4              5   44  Female              No            Yes   \n",
      "...          ...  ...     ...             ...            ...   \n",
      "8791        8792   55  Female             Yes             No   \n",
      "8792        8793   67    Male              No             No   \n",
      "8793        8794   40  Female             Yes             No   \n",
      "8794        8795   52  Female              No            Yes   \n",
      "8795        8796   40    Male              No             No   \n",
      "\n",
      "     Treatment History  ctDNA Concentration (ng/mL)   Mutation Type  Gene  \\\n",
      "0         Radiotherapy                         0.02        Deletion  KRAS   \n",
      "1         Radiotherapy                         1.61       Insertion  KRAS   \n",
      "2         Radiotherapy                         1.36        Deletion  EGFR   \n",
      "3         Chemotherapy                         1.93       Insertion  KRAS   \n",
      "4         Radiotherapy                         0.63        Deletion  EGFR   \n",
      "...                ...                          ...             ...   ...   \n",
      "8791           Surgery                         0.74        Deletion  EGFR   \n",
      "8792           Surgery                         1.41        Deletion  TP53   \n",
      "8793           Surgery                         1.61       Insertion  KRAS   \n",
      "8794      Chemotherapy                         0.07        Deletion  TP53   \n",
      "8795      Chemotherapy                         0.83  Point Mutation  KRAS   \n",
      "\n",
      "      Tumor Size (cm) Biopsy Result  VOC1 Concentration (ppm)  \\\n",
      "0                 2.5      Positive                      0.17   \n",
      "1                 1.1      Positive                      0.18   \n",
      "2                 4.7      Negative                      0.26   \n",
      "3                 1.7      Positive                      0.26   \n",
      "4                 5.4      Negative                      0.22   \n",
      "...               ...           ...                       ...   \n",
      "8791              5.9      Negative                      0.25   \n",
      "8792              4.6      Negative                      0.26   \n",
      "8793              3.1      Positive                      0.25   \n",
      "8794              1.5      Positive                      0.39   \n",
      "8795              5.9      Positive                      0.13   \n",
      "\n",
      "      VOC2 Concentration (ppm) Lung Cancer  \n",
      "0                         0.22         Yes  \n",
      "1                         0.39         Yes  \n",
      "2                         0.31         Yes  \n",
      "3                         0.29         Yes  \n",
      "4                         0.36         Yes  \n",
      "...                        ...         ...  \n",
      "8791                      0.13         Yes  \n",
      "8792                      0.26         Yes  \n",
      "8793                      0.21         Yes  \n",
      "8794                      0.39         Yes  \n",
      "8795                      0.36         Yes  \n",
      "\n",
      "[8796 rows x 14 columns]\n"
     ]
    }
   ],
   "source": [
    "print(df1)"
   ]
  },
  {
   "cell_type": "code",
   "execution_count": 114,
   "id": "ed837f4d-010a-4536-af1a-4b3525b03dd8",
   "metadata": {},
   "outputs": [
    {
     "name": "stdout",
     "output_type": "stream",
     "text": [
      "(8796, 14)\n"
     ]
    }
   ],
   "source": [
    "#shape after outliers remove\n",
    "\n",
    "print(df1.shape)\n"
   ]
  },
  {
   "cell_type": "code",
   "execution_count": 115,
   "id": "e3ba8d30-ac33-4e04-bbb1-ea56f9b627f2",
   "metadata": {},
   "outputs": [
    {
     "name": "stdout",
     "output_type": "stream",
     "text": [
      "Skewness before transformation:\n",
      " Patient ID                     0.000000\n",
      "Age                           -0.017428\n",
      "ctDNA Concentration (ng/mL)    0.020630\n",
      "Tumor Size (cm)                0.004011\n",
      "VOC1 Concentration (ppm)       0.003563\n",
      "VOC2 Concentration (ppm)      -0.004166\n",
      "dtype: float64\n"
     ]
    }
   ],
   "source": [
    "# Checking skewness of numerical columns\n",
    "\n",
    "num_columns = df1.select_dtypes(include=['int64', 'float64']).columns\n",
    "skewness = df1[num_columns].skew()\n",
    "print(\"Skewness before transformation:\\n\", skewness)\n",
    "\n",
    "\n"
   ]
  },
  {
   "cell_type": "markdown",
   "id": "cdc82436-dfd8-4ad4-af31-d5b171553062",
   "metadata": {},
   "source": [
    "## VISUALIZATION"
   ]
  },
  {
   "cell_type": "code",
   "execution_count": 116,
   "id": "70ec1b9e-36f9-429a-928c-6c8c43c020bf",
   "metadata": {},
   "outputs": [
    {
     "data": {
      "image/png": "[encoded data removed]",
      "text/plain": [
       "<Figure size 1200x600 with 1 Axes>"
      ]
     },
     "metadata": {},
     "output_type": "display_data"
    },
    {
     "data": {
      "image/png": "[encoded data removed]",
      "text/plain": [
       "<Figure size 1200x600 with 1 Axes>"
      ]
     },
     "metadata": {},
     "output_type": "display_data"
    },
    {
     "data": {
      "image/png": "[encoded data removed]",
      "text/plain": [
       "<Figure size 1200x600 with 1 Axes>"
      ]
     },
     "metadata": {},
     "output_type": "display_data"
    },
    {
     "data": {
      "image/png": "[encoded data removed]",
      "text/plain": [
       "<Figure size 1200x600 with 1 Axes>"
      ]
     },
     "metadata": {},
     "output_type": "display_data"
    },
    {
     "data": {
      "image/png": "[encoded data removed]",
      "text/plain": [
       "<Figure size 1200x600 with 1 Axes>"
      ]
     },
     "metadata": {},
     "output_type": "display_data"
    },
    {
     "data": {
      "image/png": "[encoded data removed]",
      "text/plain": [
       "<Figure size 1200x600 with 1 Axes>"
      ]
     },
     "metadata": {},
     "output_type": "display_data"
    }
   ],
   "source": [
    "#histogram\n",
    "for col in num_columns:\n",
    "    plt.figure(figsize=(12, 6))\n",
    "    plt.subplot(1, 2, 1)\n",
    "    df[col].hist(bins=30, color='orange', edgecolor='black')\n",
    "    plt.title(f\"distribution - {col}\")\n",
    "    plt.tight_layout()\n",
    "    plt.show()\n",
    "   \n",
    "    "
   ]
  },
  {
   "cell_type": "code",
   "execution_count": 117,
   "id": "c161721e-83fc-4cda-b3c5-a71e54699d9c",
   "metadata": {},
   "outputs": [
    {
     "data": {
      "image/png": "[encoded data removed]",
      "text/plain": [
       "<Figure size 1200x600 with 1 Axes>"
      ]
     },
     "metadata": {},
     "output_type": "display_data"
    },
    {
     "data": {
      "image/png": "[encoded data removed]",
      "text/plain": [
       "<Figure size 1200x600 with 1 Axes>"
      ]
     },
     "metadata": {},
     "output_type": "display_data"
    },
    {
     "data": {
      "image/png": "[encoded data removed]",
      "text/plain": [
       "<Figure size 1200x600 with 1 Axes>"
      ]
     },
     "metadata": {},
     "output_type": "display_data"
    },
    {
     "data": {
      "image/png": "[encoded data removed]",
      "text/plain": [
       "<Figure size 1200x600 with 1 Axes>"
      ]
     },
     "metadata": {},
     "output_type": "display_data"
    },
    {
     "data": {
      "image/png": "[encoded data removed]",
      "text/plain": [
       "<Figure size 1200x600 with 1 Axes>"
      ]
     },
     "metadata": {},
     "output_type": "display_data"
    },
    {
     "data": {
      "image/png": "[encoded data removed]",
      "text/plain": [
       "<Figure size 1200x600 with 1 Axes>"
      ]
     },
     "metadata": {},
     "output_type": "display_data"
    }
   ],
   "source": [
    "#boxplot\n",
    "for col in num_columns:\n",
    "    plt.figure(figsize=(12, 6))\n",
    "    plt.subplot(1, 2, 1)\n",
    "    plt.boxplot(df[col], vert=False, patch_artist=True,\n",
    "                boxprops=dict(facecolor='red', color='black'),\n",
    "                medianprops=dict(color='pink'),\n",
    "                whiskerprops=dict(color='black'),\n",
    "                capprops=dict(color='black'),\n",
    "                flierprops=dict(markerfacecolor='black', marker='o', markersize=5))\n",
    "    plt.title(f\"Distribution - {col}\")\n",
    "    plt.xlabel(col)\n",
    "    plt.tight_layout()\n",
    "    plt.show()\n"
   ]
  },
  {
   "cell_type": "code",
   "execution_count": 118,
   "id": "9fae8c4d-c6b3-4487-8ec4-ce6a88a2516b",
   "metadata": {},
   "outputs": [
    {
     "data": {
      "text/html": [
       "<div>\n",
       "<style scoped>\n",
       "    .dataframe tbody tr th:only-of-type {\n",
       "        vertical-align: middle;\n",
       "    }\n",
       "\n",
       "    .dataframe tbody tr th {\n",
       "        vertical-align: top;\n",
       "    }\n",
       "\n",
       "    .dataframe thead th {\n",
       "        text-align: right;\n",
       "    }\n",
       "</style>\n",
       "<table border=\"1\" class=\"dataframe\">\n",
       "  <thead>\n",
       "    <tr style=\"text-align: right;\">\n",
       "      <th></th>\n",
       "      <th>Patient ID</th>\n",
       "      <th>Age</th>\n",
       "      <th>ctDNA Concentration (ng/mL)</th>\n",
       "      <th>Tumor Size (cm)</th>\n",
       "      <th>VOC1 Concentration (ppm)</th>\n",
       "      <th>VOC2 Concentration (ppm)</th>\n",
       "      <th>Lung Cancer</th>\n",
       "      <th>Gender_Male</th>\n",
       "      <th>Smoking History_Yes</th>\n",
       "      <th>Family History_Yes</th>\n",
       "      <th>Treatment History_Radiotherapy</th>\n",
       "      <th>Treatment History_Surgery</th>\n",
       "      <th>Mutation Type_Insertion</th>\n",
       "      <th>Mutation Type_Point Mutation</th>\n",
       "      <th>Biopsy Result_Positive</th>\n",
       "      <th>Gene_EGFR</th>\n",
       "      <th>Gene_KRAS</th>\n",
       "      <th>Gene_TP53</th>\n",
       "    </tr>\n",
       "  </thead>\n",
       "  <tbody>\n",
       "    <tr>\n",
       "      <th>0</th>\n",
       "      <td>1</td>\n",
       "      <td>53</td>\n",
       "      <td>0.02</td>\n",
       "      <td>2.5</td>\n",
       "      <td>0.17</td>\n",
       "      <td>0.22</td>\n",
       "      <td>Yes</td>\n",
       "      <td>True</td>\n",
       "      <td>True</td>\n",
       "      <td>False</td>\n",
       "      <td>True</td>\n",
       "      <td>False</td>\n",
       "      <td>False</td>\n",
       "      <td>False</td>\n",
       "      <td>True</td>\n",
       "      <td>False</td>\n",
       "      <td>True</td>\n",
       "      <td>False</td>\n",
       "    </tr>\n",
       "    <tr>\n",
       "      <th>1</th>\n",
       "      <td>2</td>\n",
       "      <td>66</td>\n",
       "      <td>1.61</td>\n",
       "      <td>1.1</td>\n",
       "      <td>0.18</td>\n",
       "      <td>0.39</td>\n",
       "      <td>Yes</td>\n",
       "      <td>False</td>\n",
       "      <td>False</td>\n",
       "      <td>False</td>\n",
       "      <td>True</td>\n",
       "      <td>False</td>\n",
       "      <td>True</td>\n",
       "      <td>False</td>\n",
       "      <td>True</td>\n",
       "      <td>False</td>\n",
       "      <td>True</td>\n",
       "      <td>False</td>\n",
       "    </tr>\n",
       "    <tr>\n",
       "      <th>2</th>\n",
       "      <td>3</td>\n",
       "      <td>40</td>\n",
       "      <td>1.36</td>\n",
       "      <td>4.7</td>\n",
       "      <td>0.26</td>\n",
       "      <td>0.31</td>\n",
       "      <td>Yes</td>\n",
       "      <td>False</td>\n",
       "      <td>False</td>\n",
       "      <td>False</td>\n",
       "      <td>True</td>\n",
       "      <td>False</td>\n",
       "      <td>False</td>\n",
       "      <td>False</td>\n",
       "      <td>False</td>\n",
       "      <td>True</td>\n",
       "      <td>False</td>\n",
       "      <td>False</td>\n",
       "    </tr>\n",
       "    <tr>\n",
       "      <th>3</th>\n",
       "      <td>4</td>\n",
       "      <td>43</td>\n",
       "      <td>1.93</td>\n",
       "      <td>1.7</td>\n",
       "      <td>0.26</td>\n",
       "      <td>0.29</td>\n",
       "      <td>Yes</td>\n",
       "      <td>True</td>\n",
       "      <td>True</td>\n",
       "      <td>False</td>\n",
       "      <td>False</td>\n",
       "      <td>False</td>\n",
       "      <td>True</td>\n",
       "      <td>False</td>\n",
       "      <td>True</td>\n",
       "      <td>False</td>\n",
       "      <td>True</td>\n",
       "      <td>False</td>\n",
       "    </tr>\n",
       "    <tr>\n",
       "      <th>4</th>\n",
       "      <td>5</td>\n",
       "      <td>44</td>\n",
       "      <td>0.63</td>\n",
       "      <td>5.4</td>\n",
       "      <td>0.22</td>\n",
       "      <td>0.36</td>\n",
       "      <td>Yes</td>\n",
       "      <td>False</td>\n",
       "      <td>False</td>\n",
       "      <td>True</td>\n",
       "      <td>True</td>\n",
       "      <td>False</td>\n",
       "      <td>False</td>\n",
       "      <td>False</td>\n",
       "      <td>False</td>\n",
       "      <td>True</td>\n",
       "      <td>False</td>\n",
       "      <td>False</td>\n",
       "    </tr>\n",
       "    <tr>\n",
       "      <th>...</th>\n",
       "      <td>...</td>\n",
       "      <td>...</td>\n",
       "      <td>...</td>\n",
       "      <td>...</td>\n",
       "      <td>...</td>\n",
       "      <td>...</td>\n",
       "      <td>...</td>\n",
       "      <td>...</td>\n",
       "      <td>...</td>\n",
       "      <td>...</td>\n",
       "      <td>...</td>\n",
       "      <td>...</td>\n",
       "      <td>...</td>\n",
       "      <td>...</td>\n",
       "      <td>...</td>\n",
       "      <td>...</td>\n",
       "      <td>...</td>\n",
       "      <td>...</td>\n",
       "    </tr>\n",
       "    <tr>\n",
       "      <th>8791</th>\n",
       "      <td>8792</td>\n",
       "      <td>55</td>\n",
       "      <td>0.74</td>\n",
       "      <td>5.9</td>\n",
       "      <td>0.25</td>\n",
       "      <td>0.13</td>\n",
       "      <td>Yes</td>\n",
       "      <td>False</td>\n",
       "      <td>True</td>\n",
       "      <td>False</td>\n",
       "      <td>False</td>\n",
       "      <td>True</td>\n",
       "      <td>False</td>\n",
       "      <td>False</td>\n",
       "      <td>False</td>\n",
       "      <td>True</td>\n",
       "      <td>False</td>\n",
       "      <td>False</td>\n",
       "    </tr>\n",
       "    <tr>\n",
       "      <th>8792</th>\n",
       "      <td>8793</td>\n",
       "      <td>67</td>\n",
       "      <td>1.41</td>\n",
       "      <td>4.6</td>\n",
       "      <td>0.26</td>\n",
       "      <td>0.26</td>\n",
       "      <td>Yes</td>\n",
       "      <td>True</td>\n",
       "      <td>False</td>\n",
       "      <td>False</td>\n",
       "      <td>False</td>\n",
       "      <td>True</td>\n",
       "      <td>False</td>\n",
       "      <td>False</td>\n",
       "      <td>False</td>\n",
       "      <td>False</td>\n",
       "      <td>False</td>\n",
       "      <td>True</td>\n",
       "    </tr>\n",
       "    <tr>\n",
       "      <th>8793</th>\n",
       "      <td>8794</td>\n",
       "      <td>40</td>\n",
       "      <td>1.61</td>\n",
       "      <td>3.1</td>\n",
       "      <td>0.25</td>\n",
       "      <td>0.21</td>\n",
       "      <td>Yes</td>\n",
       "      <td>False</td>\n",
       "      <td>True</td>\n",
       "      <td>False</td>\n",
       "      <td>False</td>\n",
       "      <td>True</td>\n",
       "      <td>True</td>\n",
       "      <td>False</td>\n",
       "      <td>True</td>\n",
       "      <td>False</td>\n",
       "      <td>True</td>\n",
       "      <td>False</td>\n",
       "    </tr>\n",
       "    <tr>\n",
       "      <th>8794</th>\n",
       "      <td>8795</td>\n",
       "      <td>52</td>\n",
       "      <td>0.07</td>\n",
       "      <td>1.5</td>\n",
       "      <td>0.39</td>\n",
       "      <td>0.39</td>\n",
       "      <td>Yes</td>\n",
       "      <td>False</td>\n",
       "      <td>False</td>\n",
       "      <td>True</td>\n",
       "      <td>False</td>\n",
       "      <td>False</td>\n",
       "      <td>False</td>\n",
       "      <td>False</td>\n",
       "      <td>True</td>\n",
       "      <td>False</td>\n",
       "      <td>False</td>\n",
       "      <td>True</td>\n",
       "    </tr>\n",
       "    <tr>\n",
       "      <th>8795</th>\n",
       "      <td>8796</td>\n",
       "      <td>40</td>\n",
       "      <td>0.83</td>\n",
       "      <td>5.9</td>\n",
       "      <td>0.13</td>\n",
       "      <td>0.36</td>\n",
       "      <td>Yes</td>\n",
       "      <td>True</td>\n",
       "      <td>False</td>\n",
       "      <td>False</td>\n",
       "      <td>False</td>\n",
       "      <td>False</td>\n",
       "      <td>False</td>\n",
       "      <td>True</td>\n",
       "      <td>True</td>\n",
       "      <td>False</td>\n",
       "      <td>True</td>\n",
       "      <td>False</td>\n",
       "    </tr>\n",
       "  </tbody>\n",
       "</table>\n",
       "<p>8796 rows × 18 columns</p>\n",
       "</div>"
      ],
      "text/plain": [
       "      Patient ID  Age  ctDNA Concentration (ng/mL)  Tumor Size (cm)  \\\n",
       "0              1   53                         0.02              2.5   \n",
       "1              2   66                         1.61              1.1   \n",
       "2              3   40                         1.36              4.7   \n",
       "3              4   43                         1.93              1.7   \n",
       "4              5   44                         0.63              5.4   \n",
       "...          ...  ...                          ...              ...   \n",
       "8791        8792   55                         0.74              5.9   \n",
       "8792        8793   67                         1.41              4.6   \n",
       "8793        8794   40                         1.61              3.1   \n",
       "8794        8795   52                         0.07              1.5   \n",
       "8795        8796   40                         0.83              5.9   \n",
       "\n",
       "      VOC1 Concentration (ppm)  VOC2 Concentration (ppm) Lung Cancer  \\\n",
       "0                         0.17                      0.22         Yes   \n",
       "1                         0.18                      0.39         Yes   \n",
       "2                         0.26                      0.31         Yes   \n",
       "3                         0.26                      0.29         Yes   \n",
       "4                         0.22                      0.36         Yes   \n",
       "...                        ...                       ...         ...   \n",
       "8791                      0.25                      0.13         Yes   \n",
       "8792                      0.26                      0.26         Yes   \n",
       "8793                      0.25                      0.21         Yes   \n",
       "8794                      0.39                      0.39         Yes   \n",
       "8795                      0.13                      0.36         Yes   \n",
       "\n",
       "      Gender_Male  Smoking History_Yes  Family History_Yes  \\\n",
       "0            True                 True               False   \n",
       "1           False                False               False   \n",
       "2           False                False               False   \n",
       "3            True                 True               False   \n",
       "4           False                False                True   \n",
       "...           ...                  ...                 ...   \n",
       "8791        False                 True               False   \n",
       "8792         True                False               False   \n",
       "8793        False                 True               False   \n",
       "8794        False                False                True   \n",
       "8795         True                False               False   \n",
       "\n",
       "      Treatment History_Radiotherapy  Treatment History_Surgery  \\\n",
       "0                               True                      False   \n",
       "1                               True                      False   \n",
       "2                               True                      False   \n",
       "3                              False                      False   \n",
       "4                               True                      False   \n",
       "...                              ...                        ...   \n",
       "8791                           False                       True   \n",
       "8792                           False                       True   \n",
       "8793                           False                       True   \n",
       "8794                           False                      False   \n",
       "8795                           False                      False   \n",
       "\n",
       "      Mutation Type_Insertion  Mutation Type_Point Mutation  \\\n",
       "0                       False                         False   \n",
       "1                        True                         False   \n",
       "2                       False                         False   \n",
       "3                        True                         False   \n",
       "4                       False                         False   \n",
       "...                       ...                           ...   \n",
       "8791                    False                         False   \n",
       "8792                    False                         False   \n",
       "8793                     True                         False   \n",
       "8794                    False                         False   \n",
       "8795                    False                          True   \n",
       "\n",
       "      Biopsy Result_Positive  Gene_EGFR  Gene_KRAS  Gene_TP53  \n",
       "0                       True      False       True      False  \n",
       "1                       True      False       True      False  \n",
       "2                      False       True      False      False  \n",
       "3                       True      False       True      False  \n",
       "4                      False       True      False      False  \n",
       "...                      ...        ...        ...        ...  \n",
       "8791                   False       True      False      False  \n",
       "8792                   False      False      False       True  \n",
       "8793                    True      False       True      False  \n",
       "8794                    True      False      False       True  \n",
       "8795                    True      False       True      False  \n",
       "\n",
       "[8796 rows x 18 columns]"
      ]
     },
     "execution_count": 118,
     "metadata": {},
     "output_type": "execute_result"
    }
   ],
   "source": [
    "# One-hot encode categorical variables\n",
    "df2 = pd.get_dummies(df1, columns=['Gender', 'Smoking History', 'Family History', 'Treatment History', 'Mutation Type', 'Biopsy Result', 'Gene'], drop_first=True)\n",
    "df2"
   ]
  },
  {
   "cell_type": "code",
   "execution_count": 119,
   "id": "9054a138-f4e4-4b4e-979c-5498da1bdebd",
   "metadata": {},
   "outputs": [
    {
     "data": {
      "image/png": "[encoded data removed]",
      "text/plain": [
       "<Figure size 1000x600 with 2 Axes>"
      ]
     },
     "metadata": {},
     "output_type": "display_data"
    }
   ],
   "source": [
    "num_columns = df2.select_dtypes(include=['float64', 'int64']).columns\n",
    "cr = df2[num_columns].corr()\n",
    "num_columns\n",
    "cr\n",
    "\n",
    "\n",
    "plt.figure(figsize=(10, 6))\n",
    "sns.heatmap(cr, annot=True, cmap='coolwarm', fmt='.2f')\n",
    "plt.title(\"Correlation Matrix\")\n",
    "plt.show()"
   ]
  },
  {
   "cell_type": "markdown",
   "id": "cc4dc52c-8359-45b9-898b-0c3369545310",
   "metadata": {},
   "source": [
    "## Future selection"
   ]
  },
  {
   "cell_type": "code",
   "execution_count": 120,
   "id": "889c75db-7c5c-4889-9f7c-7540aa8a7e6f",
   "metadata": {},
   "outputs": [],
   "source": [
    "X=df2.drop(columns=[\"Lung Cancer\"])\n",
    "y=df2['Lung Cancer']\n"
   ]
  },
  {
   "cell_type": "code",
   "execution_count": 121,
   "id": "b9e668bb-06d8-48aa-9037-9dcfbcdcdccd",
   "metadata": {},
   "outputs": [],
   "source": [
    "sk=SelectKBest(score_func=f_classif, k=10)\n",
    "x_new=sk.fit_transform(X,y)"
   ]
  },
  {
   "cell_type": "code",
   "execution_count": 122,
   "id": "efafa3bc-722e-49c8-9e25-39b598afb62b",
   "metadata": {},
   "outputs": [
    {
     "name": "stdout",
     "output_type": "stream",
     "text": [
      "Selected Features: Index(['Age', 'ctDNA Concentration (ng/mL)', 'Tumor Size (cm)',\n",
      "       'VOC1 Concentration (ppm)', 'VOC2 Concentration (ppm)',\n",
      "       'Smoking History_Yes', 'Family History_Yes',\n",
      "       'Treatment History_Surgery', 'Biopsy Result_Positive', 'Gene_EGFR'],\n",
      "      dtype='object')\n",
      "\n",
      "Feature Scores:\n",
      "                           Feature       Score\n",
      "13          Biopsy Result_Positive  839.811854\n",
      "7              Smoking History_Yes  616.491817\n",
      "3                  Tumor Size (cm)  334.124340\n",
      "4         VOC1 Concentration (ppm)  289.983161\n",
      "2      ctDNA Concentration (ng/mL)  278.324844\n",
      "5         VOC2 Concentration (ppm)  259.883823\n",
      "1                              Age  185.732421\n",
      "10       Treatment History_Surgery  115.848161\n",
      "8               Family History_Yes   82.887543\n",
      "14                       Gene_EGFR   16.936722\n",
      "16                       Gene_TP53   15.581487\n",
      "11         Mutation Type_Insertion    8.021503\n",
      "15                       Gene_KRAS    4.523756\n",
      "12    Mutation Type_Point Mutation    2.444873\n",
      "9   Treatment History_Radiotherapy    1.386295\n",
      "6                      Gender_Male    1.234959\n",
      "0                       Patient ID    0.000225\n"
     ]
    }
   ],
   "source": [
    "selected_features = X.columns[sk.get_support()]\n",
    "feature_scores = pd.DataFrame({'Feature': X.columns, 'Score': sk.scores_}).sort_values(by='Score', ascending=False)\n",
    "\n",
    "print(\"Selected Features:\", selected_features)\n",
    "print(\"\\nFeature Scores:\")\n",
    "print(feature_scores)"
   ]
  },
  {
   "cell_type": "code",
   "execution_count": 123,
   "id": "05d5055d-6993-4fbb-a26f-cf46b77acc89",
   "metadata": {},
   "outputs": [],
   "source": [
    "#standerdization"
   ]
  },
  {
   "cell_type": "code",
   "execution_count": 124,
   "id": "1f4bf171-60a9-4c7e-9207-16eda6b1e2d2",
   "metadata": {},
   "outputs": [],
   "source": [
    "scaler=StandardScaler()\n",
    "X_scaled= scaler.fit_transform(X)"
   ]
  },
  {
   "cell_type": "code",
   "execution_count": 125,
   "id": "0c0c8624-9eaa-457d-81ea-6ccbeced0312",
   "metadata": {},
   "outputs": [],
   "source": [
    "#spliting train& test"
   ]
  },
  {
   "cell_type": "code",
   "execution_count": 126,
   "id": "4d8edfa8-3ce1-4cab-8935-6cb227b5eb5b",
   "metadata": {},
   "outputs": [],
   "source": [
    "X_train, X_test, y_train, y_test = train_test_split(X, y, test_size=0.3, random_state=42)"
   ]
  },
  {
   "cell_type": "code",
   "execution_count": 127,
   "id": "898b0b45-b49b-488e-9c48-4e9a6396d7a4",
   "metadata": {},
   "outputs": [
    {
     "data": {
      "text/plain": [
       "(6157, 17)"
      ]
     },
     "execution_count": 127,
     "metadata": {},
     "output_type": "execute_result"
    }
   ],
   "source": [
    "X_train.shape"
   ]
  },
  {
   "cell_type": "code",
   "execution_count": 128,
   "id": "3a8e9fc3-9fe8-425c-abc4-3b8ac3a39c52",
   "metadata": {},
   "outputs": [
    {
     "data": {
      "text/plain": [
       "(2639, 17)"
      ]
     },
     "execution_count": 128,
     "metadata": {},
     "output_type": "execute_result"
    }
   ],
   "source": [
    "X_test.shape"
   ]
  },
  {
   "cell_type": "code",
   "execution_count": 129,
   "id": "887800eb-2eb0-4ba5-aa95-76484981ddab",
   "metadata": {},
   "outputs": [
    {
     "data": {
      "text/plain": [
       "(6157,)"
      ]
     },
     "execution_count": 129,
     "metadata": {},
     "output_type": "execute_result"
    }
   ],
   "source": [
    "y_train.shape"
   ]
  },
  {
   "cell_type": "code",
   "execution_count": 130,
   "id": "0c46b47b-ea6c-4613-a2e0-9e91bac94c89",
   "metadata": {},
   "outputs": [
    {
     "data": {
      "text/plain": [
       "(2639,)"
      ]
     },
     "execution_count": 130,
     "metadata": {},
     "output_type": "execute_result"
    }
   ],
   "source": [
    "y_test.shape"
   ]
  },
  {
   "cell_type": "markdown",
   "id": "acf0dc0e-e2cc-422d-8041-bd86231b897c",
   "metadata": {},
   "source": [
    "## Model Building"
   ]
  },
  {
   "cell_type": "code",
   "execution_count": 131,
   "id": "a3d75d01-d0e3-4ef9-9168-1d9f41612a1e",
   "metadata": {},
   "outputs": [],
   "source": [
    "models = {\n",
    "    \"Logistic Regression\": LogisticRegression(max_iter=1000),\n",
    "    \"Support Vector Machine\": SVC(kernel='rbf', probability=True),\n",
    "    \"Decision Tree\": DecisionTreeClassifier(),\n",
    "    \"Random Forest\": RandomForestClassifier(n_estimators=100),\n",
    "    \"Gradient Boosting\": GradientBoostingClassifier(),\n",
    "    \"AdaBoost\": AdaBoostClassifier(),\n",
    "    \"Naive Bayes\": GaussianNB(),\n",
    "    \"K-Nearest Neighbors\": KNeighborsClassifier(n_neighbors=5),\n",
    "    \"MLP Classifier (Neural Network)\": MLPClassifier(hidden_layer_sizes=(100, 50), max_iter=500)}"
   ]
  },
  {
   "cell_type": "code",
   "execution_count": 132,
   "id": "02ff7096-6a90-4b75-8857-05911bf9216b",
   "metadata": {},
   "outputs": [
    {
     "name": "stderr",
     "output_type": "stream",
     "text": [
      "C:\\Users\\pro\\anaconda3\\Lib\\site-packages\\sklearn\\linear_model\\_logistic.py:469: ConvergenceWarning: lbfgs failed to converge (status=1):\n",
      "STOP: TOTAL NO. of ITERATIONS REACHED LIMIT.\n",
      "\n",
      "Increase the number of iterations (max_iter) or scale the data as shown in:\n",
      "    https://scikit-learn.org/stable/modules/preprocessing.html\n",
      "Please also refer to the documentation for alternative solver options:\n",
      "    https://scikit-learn.org/stable/modules/linear_model.html#logistic-regression\n",
      "  n_iter_i = _check_optimize_result(\n"
     ]
    },
    {
     "name": "stdout",
     "output_type": "stream",
     "text": [
      "\n",
      "Logistic Regression:\n",
      "Accuracy: 0.9200454717696097\n",
      "Classification Report:\n",
      "               precision    recall  f1-score   support\n",
      "\n",
      "          No       0.79      0.64      0.71       402\n",
      "         Yes       0.94      0.97      0.95      2237\n",
      "\n",
      "    accuracy                           0.92      2639\n",
      "   macro avg       0.87      0.81      0.83      2639\n",
      "weighted avg       0.92      0.92      0.92      2639\n",
      "\n",
      "Confusion Matrix:\n",
      " [[ 259  143]\n",
      " [  68 2169]]\n"
     ]
    },
    {
     "data": {
      "image/png": "[encoded data removed]",
      "text/plain": [
       "<Figure size 600x400 with 1 Axes>"
      ]
     },
     "metadata": {},
     "output_type": "display_data"
    },
    {
     "name": "stdout",
     "output_type": "stream",
     "text": [
      "\n",
      "Support Vector Machine:\n",
      "Accuracy: 0.8476695718075028\n",
      "Classification Report:\n",
      "               precision    recall  f1-score   support\n",
      "\n",
      "          No       0.00      0.00      0.00       402\n",
      "         Yes       0.85      1.00      0.92      2237\n",
      "\n",
      "    accuracy                           0.85      2639\n",
      "   macro avg       0.42      0.50      0.46      2639\n",
      "weighted avg       0.72      0.85      0.78      2639\n",
      "\n",
      "Confusion Matrix:\n",
      " [[   0  402]\n",
      " [   0 2237]]\n"
     ]
    },
    {
     "name": "stderr",
     "output_type": "stream",
     "text": [
      "C:\\Users\\pro\\anaconda3\\Lib\\site-packages\\sklearn\\metrics\\_classification.py:1531: UndefinedMetricWarning: Precision is ill-defined and being set to 0.0 in labels with no predicted samples. Use `zero_division` parameter to control this behavior.\n",
      "  _warn_prf(average, modifier, f\"{metric.capitalize()} is\", len(result))\n",
      "C:\\Users\\pro\\anaconda3\\Lib\\site-packages\\sklearn\\metrics\\_classification.py:1531: UndefinedMetricWarning: Precision is ill-defined and being set to 0.0 in labels with no predicted samples. Use `zero_division` parameter to control this behavior.\n",
      "  _warn_prf(average, modifier, f\"{metric.capitalize()} is\", len(result))\n",
      "C:\\Users\\pro\\anaconda3\\Lib\\site-packages\\sklearn\\metrics\\_classification.py:1531: UndefinedMetricWarning: Precision is ill-defined and being set to 0.0 in labels with no predicted samples. Use `zero_division` parameter to control this behavior.\n",
      "  _warn_prf(average, modifier, f\"{metric.capitalize()} is\", len(result))\n"
     ]
    },
    {
     "data": {
      "image/png": "[encoded data removed]",
      "text/plain": [
       "<Figure size 600x400 with 1 Axes>"
      ]
     },
     "metadata": {},
     "output_type": "display_data"
    },
    {
     "name": "stdout",
     "output_type": "stream",
     "text": [
      "\n",
      "Decision Tree:\n",
      "Accuracy: 0.9189086775293672\n",
      "Classification Report:\n",
      "               precision    recall  f1-score   support\n",
      "\n",
      "          No       0.73      0.75      0.74       402\n",
      "         Yes       0.95      0.95      0.95      2237\n",
      "\n",
      "    accuracy                           0.92      2639\n",
      "   macro avg       0.84      0.85      0.84      2639\n",
      "weighted avg       0.92      0.92      0.92      2639\n",
      "\n",
      "Confusion Matrix:\n",
      " [[ 300  102]\n",
      " [ 112 2125]]\n"
     ]
    },
    {
     "data": {
      "image/png": "[encoded data removed]",
      "text/plain": [
       "<Figure size 600x400 with 1 Axes>"
      ]
     },
     "metadata": {},
     "output_type": "display_data"
    },
    {
     "name": "stdout",
     "output_type": "stream",
     "text": [
      "\n",
      "Random Forest:\n",
      "Accuracy: 0.9283819628647215\n",
      "Classification Report:\n",
      "               precision    recall  f1-score   support\n",
      "\n",
      "          No       0.88      0.61      0.72       402\n",
      "         Yes       0.93      0.99      0.96      2237\n",
      "\n",
      "    accuracy                           0.93      2639\n",
      "   macro avg       0.91      0.80      0.84      2639\n",
      "weighted avg       0.93      0.93      0.92      2639\n",
      "\n",
      "Confusion Matrix:\n",
      " [[ 245  157]\n",
      " [  32 2205]]\n"
     ]
    },
    {
     "data": {
      "image/png": "[encoded data removed]",
      "text/plain": [
       "<Figure size 600x400 with 1 Axes>"
      ]
     },
     "metadata": {},
     "output_type": "display_data"
    },
    {
     "name": "stdout",
     "output_type": "stream",
     "text": [
      "\n",
      "Gradient Boosting:\n",
      "Accuracy: 0.9378552482000758\n",
      "Classification Report:\n",
      "               precision    recall  f1-score   support\n",
      "\n",
      "          No       0.91      0.65      0.76       402\n",
      "         Yes       0.94      0.99      0.96      2237\n",
      "\n",
      "    accuracy                           0.94      2639\n",
      "   macro avg       0.93      0.82      0.86      2639\n",
      "weighted avg       0.94      0.94      0.93      2639\n",
      "\n",
      "Confusion Matrix:\n",
      " [[ 263  139]\n",
      " [  25 2212]]\n"
     ]
    },
    {
     "data": {
      "image/png": "[encoded data removed]",
      "text/plain": [
       "<Figure size 600x400 with 1 Axes>"
      ]
     },
     "metadata": {},
     "output_type": "display_data"
    },
    {
     "name": "stderr",
     "output_type": "stream",
     "text": [
      "C:\\Users\\pro\\anaconda3\\Lib\\site-packages\\sklearn\\ensemble\\_weight_boosting.py:527: FutureWarning: The SAMME.R algorithm (the default) is deprecated and will be removed in 1.6. Use the SAMME algorithm to circumvent this warning.\n",
      "  warnings.warn(\n"
     ]
    },
    {
     "name": "stdout",
     "output_type": "stream",
     "text": [
      "\n",
      "AdaBoost:\n",
      "Accuracy: 0.9556650246305419\n",
      "Classification Report:\n",
      "               precision    recall  f1-score   support\n",
      "\n",
      "          No       0.89      0.81      0.85       402\n",
      "         Yes       0.97      0.98      0.97      2237\n",
      "\n",
      "    accuracy                           0.96      2639\n",
      "   macro avg       0.93      0.90      0.91      2639\n",
      "weighted avg       0.95      0.96      0.95      2639\n",
      "\n",
      "Confusion Matrix:\n",
      " [[ 325   77]\n",
      " [  40 2197]]\n"
     ]
    },
    {
     "data": {
      "image/png": "[encoded data removed]",
      "text/plain": [
       "<Figure size 600x400 with 1 Axes>"
      ]
     },
     "metadata": {},
     "output_type": "display_data"
    },
    {
     "name": "stdout",
     "output_type": "stream",
     "text": [
      "\n",
      "Naive Bayes:\n",
      "Accuracy: 0.905267146646457\n",
      "Classification Report:\n",
      "               precision    recall  f1-score   support\n",
      "\n",
      "          No       0.75      0.57      0.65       402\n",
      "         Yes       0.93      0.97      0.95      2237\n",
      "\n",
      "    accuracy                           0.91      2639\n",
      "   macro avg       0.84      0.77      0.80      2639\n",
      "weighted avg       0.90      0.91      0.90      2639\n",
      "\n",
      "Confusion Matrix:\n",
      " [[ 229  173]\n",
      " [  77 2160]]\n"
     ]
    },
    {
     "data": {
      "image/png": "[encoded data removed]",
      "text/plain": [
       "<Figure size 600x400 with 1 Axes>"
      ]
     },
     "metadata": {},
     "output_type": "display_data"
    },
    {
     "name": "stdout",
     "output_type": "stream",
     "text": [
      "\n",
      "K-Nearest Neighbors:\n",
      "Accuracy: 0.8298597953770368\n",
      "Classification Report:\n",
      "               precision    recall  f1-score   support\n",
      "\n",
      "          No       0.19      0.04      0.06       402\n",
      "         Yes       0.85      0.97      0.91      2237\n",
      "\n",
      "    accuracy                           0.83      2639\n",
      "   macro avg       0.52      0.50      0.48      2639\n",
      "weighted avg       0.75      0.83      0.78      2639\n",
      "\n",
      "Confusion Matrix:\n",
      " [[  15  387]\n",
      " [  62 2175]]\n"
     ]
    },
    {
     "data": {
      "image/png": "[encoded data removed]",
      "text/plain": [
       "<Figure size 600x400 with 1 Axes>"
      ]
     },
     "metadata": {},
     "output_type": "display_data"
    },
    {
     "name": "stdout",
     "output_type": "stream",
     "text": [
      "\n",
      "MLP Classifier (Neural Network):\n",
      "Accuracy: 0.24289503599848428\n",
      "Classification Report:\n",
      "               precision    recall  f1-score   support\n",
      "\n",
      "          No       0.16      0.96      0.28       402\n",
      "         Yes       0.94      0.11      0.20      2237\n",
      "\n",
      "    accuracy                           0.24      2639\n",
      "   macro avg       0.55      0.54      0.24      2639\n",
      "weighted avg       0.82      0.24      0.22      2639\n",
      "\n",
      "Confusion Matrix:\n",
      " [[ 385   17]\n",
      " [1981  256]]\n"
     ]
    },
    {
     "data": {
      "image/png": "[encoded data removed]",
      "text/plain": [
       "<Figure size 600x400 with 1 Axes>"
      ]
     },
     "metadata": {},
     "output_type": "display_data"
    }
   ],
   "source": [
    "#  evaluation of  models\n",
    "results = {}\n",
    "\n",
    "for name, model in models.items():\n",
    "    model.fit(X_train, y_train)\n",
    "    y_pred = model.predict(X_test)\n",
    "    acc = accuracy_score(y_test, y_pred)\n",
    "    results[name] = acc\n",
    "\n",
    "    print(f\"\\n{name}:\")\n",
    "    print(\"Accuracy:\", acc)\n",
    "    print(\"Classification Report:\\n\", classification_report(y_test, y_pred))\n",
    "    print(\"Confusion Matrix:\\n\", confusion_matrix(y_test, y_pred))\n",
    "\n",
    "    # Plot confusion matrix\n",
    "    cm = confusion_matrix(y_test, y_pred)\n",
    "    plt.figure(figsize=(6, 4))\n",
    "    sns.heatmap(cm, annot=True, fmt=\"d\", cmap=\"Blues\", cbar=False)\n",
    "    plt.title(f\"{name} - Confusion Matrix\")\n",
    "    plt.xlabel(\"Predicted\")\n",
    "    plt.ylabel(\"Actual\")\n",
    "    plt.tight_layout()\n",
    "    plt.show()"
   ]
  },
  {
   "cell_type": "code",
   "execution_count": 133,
   "id": "72669075-69bd-4648-b5ab-a8c50f0e268f",
   "metadata": {},
   "outputs": [
    {
     "name": "stdout",
     "output_type": "stream",
     "text": [
      "\n",
      "Best Performing Model: AdaBoost with 0.96 accuracy\n",
      "Worst Performing Model: MLP Classifier (Neural Network) with 0.24 accuracy\n"
     ]
    }
   ],
   "source": [
    "best_model = max(results, key=results.get)\n",
    "worst_model = min(results, key=results.get)\n",
    "\n",
    "print(f\"\\nBest Performing Model: {best_model} with {results[best_model]:.2f} accuracy\")\n",
    "print(f\"Worst Performing Model: {worst_model} with {results[worst_model]:.2f} accuracy\")"
   ]
  },
  {
   "cell_type": "markdown",
   "id": "815c3702-b330-4063-8d96-12c6d6a10aa8",
   "metadata": {},
   "source": [
    "## Hyperparameter Tuning:"
   ]
  },
  {
   "cell_type": "code",
   "execution_count": 134,
   "id": "25879cd1-0cba-4fba-b793-0ddb008c79e1",
   "metadata": {},
   "outputs": [],
   "source": [
    "from sklearn.pipeline import Pipeline\n",
    "from sklearn.model_selection import GridSearchCV, RandomizedSearchCV\n",
    "import joblib\n",
    "from sklearn.ensemble import AdaBoostClassifier\n",
    "from sklearn.tree import DecisionTreeClassifier"
   ]
  },
  {
   "cell_type": "code",
   "execution_count": 135,
   "id": "a0cddbf7-1c58-4a23-a602-bde0b0e90952",
   "metadata": {},
   "outputs": [
    {
     "data": {
      "text/html": [
       "<style>#sk-container-id-3 {\n",
       "  /* Definition of color scheme common for light and dark mode */\n",
       "  --sklearn-color-text: black;\n",
       "  --sklearn-color-line: gray;\n",
       "  /* Definition of color scheme for unfitted estimators */\n",
       "  --sklearn-color-unfitted-level-0: #fff5e6;\n",
       "  --sklearn-color-unfitted-level-1: #f6e4d2;\n",
       "  --sklearn-color-unfitted-level-2: #ffe0b3;\n",
       "  --sklearn-color-unfitted-level-3: chocolate;\n",
       "  /* Definition of color scheme for fitted estimators */\n",
       "  --sklearn-color-fitted-level-0: #f0f8ff;\n",
       "  --sklearn-color-fitted-level-1: #d4ebff;\n",
       "  --sklearn-color-fitted-level-2: #b3dbfd;\n",
       "  --sklearn-color-fitted-level-3: cornflowerblue;\n",
       "\n",
       "  /* Specific color for light theme */\n",
       "  --sklearn-color-text-on-default-background: var(--sg-text-color, var(--theme-code-foreground, var(--jp-content-font-color1, black)));\n",
       "  --sklearn-color-background: var(--sg-background-color, var(--theme-background, var(--jp-layout-color0, white)));\n",
       "  --sklearn-color-border-box: var(--sg-text-color, var(--theme-code-foreground, var(--jp-content-font-color1, black)));\n",
       "  --sklearn-color-icon: #696969;\n",
       "\n",
       "  @media (prefers-color-scheme: dark) {\n",
       "    /* Redefinition of color scheme for dark theme */\n",
       "    --sklearn-color-text-on-default-background: var(--sg-text-color, var(--theme-code-foreground, var(--jp-content-font-color1, white)));\n",
       "    --sklearn-color-background: var(--sg-background-color, var(--theme-background, var(--jp-layout-color0, #111)));\n",
       "    --sklearn-color-border-box: var(--sg-text-color, var(--theme-code-foreground, var(--jp-content-font-color1, white)));\n",
       "    --sklearn-color-icon: #878787;\n",
       "  }\n",
       "}\n",
       "\n",
       "#sk-container-id-3 {\n",
       "  color: var(--sklearn-color-text);\n",
       "}\n",
       "\n",
       "#sk-container-id-3 pre {\n",
       "  padding: 0;\n",
       "}\n",
       "\n",
       "#sk-container-id-3 input.sk-hidden--visually {\n",
       "  border: 0;\n",
       "  clip: rect(1px 1px 1px 1px);\n",
       "  clip: rect(1px, 1px, 1px, 1px);\n",
       "  height: 1px;\n",
       "  margin: -1px;\n",
       "  overflow: hidden;\n",
       "  padding: 0;\n",
       "  position: absolute;\n",
       "  width: 1px;\n",
       "}\n",
       "\n",
       "#sk-container-id-3 div.sk-dashed-wrapped {\n",
       "  border: 1px dashed var(--sklearn-color-line);\n",
       "  margin: 0 0.4em 0.5em 0.4em;\n",
       "  box-sizing: border-box;\n",
       "  padding-bottom: 0.4em;\n",
       "  background-color: var(--sklearn-color-background);\n",
       "}\n",
       "\n",
       "#sk-container-id-3 div.sk-container {\n",
       "  /* jupyter's `normalize.less` sets `[hidden] { display: none; }`\n",
       "     but bootstrap.min.css set `[hidden] { display: none !important; }`\n",
       "     so we also need the `!important` here to be able to override the\n",
       "     default hidden behavior on the sphinx rendered scikit-learn.org.\n",
       "     See: https://github.com/scikit-learn/scikit-learn/issues/21755 */\n",
       "  display: inline-block !important;\n",
       "  position: relative;\n",
       "}\n",
       "\n",
       "#sk-container-id-3 div.sk-text-repr-fallback {\n",
       "  display: none;\n",
       "}\n",
       "\n",
       "div.sk-parallel-item,\n",
       "div.sk-serial,\n",
       "div.sk-item {\n",
       "  /* draw centered vertical line to link estimators */\n",
       "  background-image: linear-gradient(var(--sklearn-color-text-on-default-background), var(--sklearn-color-text-on-default-background));\n",
       "  background-size: 2px 100%;\n",
       "  background-repeat: no-repeat;\n",
       "  background-position: center center;\n",
       "}\n",
       "\n",
       "/* Parallel-specific style estimator block */\n",
       "\n",
       "#sk-container-id-3 div.sk-parallel-item::after {\n",
       "  content: \"\";\n",
       "  width: 100%;\n",
       "  border-bottom: 2px solid var(--sklearn-color-text-on-default-background);\n",
       "  flex-grow: 1;\n",
       "}\n",
       "\n",
       "#sk-container-id-3 div.sk-parallel {\n",
       "  display: flex;\n",
       "  align-items: stretch;\n",
       "  justify-content: center;\n",
       "  background-color: var(--sklearn-color-background);\n",
       "  position: relative;\n",
       "}\n",
       "\n",
       "#sk-container-id-3 div.sk-parallel-item {\n",
       "  display: flex;\n",
       "  flex-direction: column;\n",
       "}\n",
       "\n",
       "#sk-container-id-3 div.sk-parallel-item:first-child::after {\n",
       "  align-self: flex-end;\n",
       "  width: 50%;\n",
       "}\n",
       "\n",
       "#sk-container-id-3 div.sk-parallel-item:last-child::after {\n",
       "  align-self: flex-start;\n",
       "  width: 50%;\n",
       "}\n",
       "\n",
       "#sk-container-id-3 div.sk-parallel-item:only-child::after {\n",
       "  width: 0;\n",
       "}\n",
       "\n",
       "/* Serial-specific style estimator block */\n",
       "\n",
       "#sk-container-id-3 div.sk-serial {\n",
       "  display: flex;\n",
       "  flex-direction: column;\n",
       "  align-items: center;\n",
       "  background-color: var(--sklearn-color-background);\n",
       "  padding-right: 1em;\n",
       "  padding-left: 1em;\n",
       "}\n",
       "\n",
       "\n",
       "/* Toggleable style: style used for estimator/Pipeline/ColumnTransformer box that is\n",
       "clickable and can be expanded/collapsed.\n",
       "- Pipeline and ColumnTransformer use this feature and define the default style\n",
       "- Estimators will overwrite some part of the style using the `sk-estimator` class\n",
       "*/\n",
       "\n",
       "/* Pipeline and ColumnTransformer style (default) */\n",
       "\n",
       "#sk-container-id-3 div.sk-toggleable {\n",
       "  /* Default theme specific background. It is overwritten whether we have a\n",
       "  specific estimator or a Pipeline/ColumnTransformer */\n",
       "  background-color: var(--sklearn-color-background);\n",
       "}\n",
       "\n",
       "/* Toggleable label */\n",
       "#sk-container-id-3 label.sk-toggleable__label {\n",
       "  cursor: pointer;\n",
       "  display: block;\n",
       "  width: 100%;\n",
       "  margin-bottom: 0;\n",
       "  padding: 0.5em;\n",
       "  box-sizing: border-box;\n",
       "  text-align: center;\n",
       "}\n",
       "\n",
       "#sk-container-id-3 label.sk-toggleable__label-arrow:before {\n",
       "  /* Arrow on the left of the label */\n",
       "  content: \"▸\";\n",
       "  float: left;\n",
       "  margin-right: 0.25em;\n",
       "  color: var(--sklearn-color-icon);\n",
       "}\n",
       "\n",
       "#sk-container-id-3 label.sk-toggleable__label-arrow:hover:before {\n",
       "  color: var(--sklearn-color-text);\n",
       "}\n",
       "\n",
       "/* Toggleable content - dropdown */\n",
       "\n",
       "#sk-container-id-3 div.sk-toggleable__content {\n",
       "  max-height: 0;\n",
       "  max-width: 0;\n",
       "  overflow: hidden;\n",
       "  text-align: left;\n",
       "  /* unfitted */\n",
       "  background-color: var(--sklearn-color-unfitted-level-0);\n",
       "}\n",
       "\n",
       "#sk-container-id-3 div.sk-toggleable__content.fitted {\n",
       "  /* fitted */\n",
       "  background-color: var(--sklearn-color-fitted-level-0);\n",
       "}\n",
       "\n",
       "#sk-container-id-3 div.sk-toggleable__content pre {\n",
       "  margin: 0.2em;\n",
       "  border-radius: 0.25em;\n",
       "  color: var(--sklearn-color-text);\n",
       "  /* unfitted */\n",
       "  background-color: var(--sklearn-color-unfitted-level-0);\n",
       "}\n",
       "\n",
       "#sk-container-id-3 div.sk-toggleable__content.fitted pre {\n",
       "  /* unfitted */\n",
       "  background-color: var(--sklearn-color-fitted-level-0);\n",
       "}\n",
       "\n",
       "#sk-container-id-3 input.sk-toggleable__control:checked~div.sk-toggleable__content {\n",
       "  /* Expand drop-down */\n",
       "  max-height: 200px;\n",
       "  max-width: 100%;\n",
       "  overflow: auto;\n",
       "}\n",
       "\n",
       "#sk-container-id-3 input.sk-toggleable__control:checked~label.sk-toggleable__label-arrow:before {\n",
       "  content: \"▾\";\n",
       "}\n",
       "\n",
       "/* Pipeline/ColumnTransformer-specific style */\n",
       "\n",
       "#sk-container-id-3 div.sk-label input.sk-toggleable__control:checked~label.sk-toggleable__label {\n",
       "  color: var(--sklearn-color-text);\n",
       "  background-color: var(--sklearn-color-unfitted-level-2);\n",
       "}\n",
       "\n",
       "#sk-container-id-3 div.sk-label.fitted input.sk-toggleable__control:checked~label.sk-toggleable__label {\n",
       "  background-color: var(--sklearn-color-fitted-level-2);\n",
       "}\n",
       "\n",
       "/* Estimator-specific style */\n",
       "\n",
       "/* Colorize estimator box */\n",
       "#sk-container-id-3 div.sk-estimator input.sk-toggleable__control:checked~label.sk-toggleable__label {\n",
       "  /* unfitted */\n",
       "  background-color: var(--sklearn-color-unfitted-level-2);\n",
       "}\n",
       "\n",
       "#sk-container-id-3 div.sk-estimator.fitted input.sk-toggleable__control:checked~label.sk-toggleable__label {\n",
       "  /* fitted */\n",
       "  background-color: var(--sklearn-color-fitted-level-2);\n",
       "}\n",
       "\n",
       "#sk-container-id-3 div.sk-label label.sk-toggleable__label,\n",
       "#sk-container-id-3 div.sk-label label {\n",
       "  /* The background is the default theme color */\n",
       "  color: var(--sklearn-color-text-on-default-background);\n",
       "}\n",
       "\n",
       "/* On hover, darken the color of the background */\n",
       "#sk-container-id-3 div.sk-label:hover label.sk-toggleable__label {\n",
       "  color: var(--sklearn-color-text);\n",
       "  background-color: var(--sklearn-color-unfitted-level-2);\n",
       "}\n",
       "\n",
       "/* Label box, darken color on hover, fitted */\n",
       "#sk-container-id-3 div.sk-label.fitted:hover label.sk-toggleable__label.fitted {\n",
       "  color: var(--sklearn-color-text);\n",
       "  background-color: var(--sklearn-color-fitted-level-2);\n",
       "}\n",
       "\n",
       "/* Estimator label */\n",
       "\n",
       "#sk-container-id-3 div.sk-label label {\n",
       "  font-family: monospace;\n",
       "  font-weight: bold;\n",
       "  display: inline-block;\n",
       "  line-height: 1.2em;\n",
       "}\n",
       "\n",
       "#sk-container-id-3 div.sk-label-container {\n",
       "  text-align: center;\n",
       "}\n",
       "\n",
       "/* Estimator-specific */\n",
       "#sk-container-id-3 div.sk-estimator {\n",
       "  font-family: monospace;\n",
       "  border: 1px dotted var(--sklearn-color-border-box);\n",
       "  border-radius: 0.25em;\n",
       "  box-sizing: border-box;\n",
       "  margin-bottom: 0.5em;\n",
       "  /* unfitted */\n",
       "  background-color: var(--sklearn-color-unfitted-level-0);\n",
       "}\n",
       "\n",
       "#sk-container-id-3 div.sk-estimator.fitted {\n",
       "  /* fitted */\n",
       "  background-color: var(--sklearn-color-fitted-level-0);\n",
       "}\n",
       "\n",
       "/* on hover */\n",
       "#sk-container-id-3 div.sk-estimator:hover {\n",
       "  /* unfitted */\n",
       "  background-color: var(--sklearn-color-unfitted-level-2);\n",
       "}\n",
       "\n",
       "#sk-container-id-3 div.sk-estimator.fitted:hover {\n",
       "  /* fitted */\n",
       "  background-color: var(--sklearn-color-fitted-level-2);\n",
       "}\n",
       "\n",
       "/* Specification for estimator info (e.g. \"i\" and \"?\") */\n",
       "\n",
       "/* Common style for \"i\" and \"?\" */\n",
       "\n",
       ".sk-estimator-doc-link,\n",
       "a:link.sk-estimator-doc-link,\n",
       "a:visited.sk-estimator-doc-link {\n",
       "  float: right;\n",
       "  font-size: smaller;\n",
       "  line-height: 1em;\n",
       "  font-family: monospace;\n",
       "  background-color: var(--sklearn-color-background);\n",
       "  border-radius: 1em;\n",
       "  height: 1em;\n",
       "  width: 1em;\n",
       "  text-decoration: none !important;\n",
       "  margin-left: 1ex;\n",
       "  /* unfitted */\n",
       "  border: var(--sklearn-color-unfitted-level-1) 1pt solid;\n",
       "  color: var(--sklearn-color-unfitted-level-1);\n",
       "}\n",
       "\n",
       ".sk-estimator-doc-link.fitted,\n",
       "a:link.sk-estimator-doc-link.fitted,\n",
       "a:visited.sk-estimator-doc-link.fitted {\n",
       "  /* fitted */\n",
       "  border: var(--sklearn-color-fitted-level-1) 1pt solid;\n",
       "  color: var(--sklearn-color-fitted-level-1);\n",
       "}\n",
       "\n",
       "/* On hover */\n",
       "div.sk-estimator:hover .sk-estimator-doc-link:hover,\n",
       ".sk-estimator-doc-link:hover,\n",
       "div.sk-label-container:hover .sk-estimator-doc-link:hover,\n",
       ".sk-estimator-doc-link:hover {\n",
       "  /* unfitted */\n",
       "  background-color: var(--sklearn-color-unfitted-level-3);\n",
       "  color: var(--sklearn-color-background);\n",
       "  text-decoration: none;\n",
       "}\n",
       "\n",
       "div.sk-estimator.fitted:hover .sk-estimator-doc-link.fitted:hover,\n",
       ".sk-estimator-doc-link.fitted:hover,\n",
       "div.sk-label-container:hover .sk-estimator-doc-link.fitted:hover,\n",
       ".sk-estimator-doc-link.fitted:hover {\n",
       "  /* fitted */\n",
       "  background-color: var(--sklearn-color-fitted-level-3);\n",
       "  color: var(--sklearn-color-background);\n",
       "  text-decoration: none;\n",
       "}\n",
       "\n",
       "/* Span, style for the box shown on hovering the info icon */\n",
       ".sk-estimator-doc-link span {\n",
       "  display: none;\n",
       "  z-index: 9999;\n",
       "  position: relative;\n",
       "  font-weight: normal;\n",
       "  right: .2ex;\n",
       "  padding: .5ex;\n",
       "  margin: .5ex;\n",
       "  width: min-content;\n",
       "  min-width: 20ex;\n",
       "  max-width: 50ex;\n",
       "  color: var(--sklearn-color-text);\n",
       "  box-shadow: 2pt 2pt 4pt #999;\n",
       "  /* unfitted */\n",
       "  background: var(--sklearn-color-unfitted-level-0);\n",
       "  border: .5pt solid var(--sklearn-color-unfitted-level-3);\n",
       "}\n",
       "\n",
       ".sk-estimator-doc-link.fitted span {\n",
       "  /* fitted */\n",
       "  background: var(--sklearn-color-fitted-level-0);\n",
       "  border: var(--sklearn-color-fitted-level-3);\n",
       "}\n",
       "\n",
       ".sk-estimator-doc-link:hover span {\n",
       "  display: block;\n",
       "}\n",
       "\n",
       "/* \"?\"-specific style due to the `<a>` HTML tag */\n",
       "\n",
       "#sk-container-id-3 a.estimator_doc_link {\n",
       "  float: right;\n",
       "  font-size: 1rem;\n",
       "  line-height: 1em;\n",
       "  font-family: monospace;\n",
       "  background-color: var(--sklearn-color-background);\n",
       "  border-radius: 1rem;\n",
       "  height: 1rem;\n",
       "  width: 1rem;\n",
       "  text-decoration: none;\n",
       "  /* unfitted */\n",
       "  color: var(--sklearn-color-unfitted-level-1);\n",
       "  border: var(--sklearn-color-unfitted-level-1) 1pt solid;\n",
       "}\n",
       "\n",
       "#sk-container-id-3 a.estimator_doc_link.fitted {\n",
       "  /* fitted */\n",
       "  border: var(--sklearn-color-fitted-level-1) 1pt solid;\n",
       "  color: var(--sklearn-color-fitted-level-1);\n",
       "}\n",
       "\n",
       "/* On hover */\n",
       "#sk-container-id-3 a.estimator_doc_link:hover {\n",
       "  /* unfitted */\n",
       "  background-color: var(--sklearn-color-unfitted-level-3);\n",
       "  color: var(--sklearn-color-background);\n",
       "  text-decoration: none;\n",
       "}\n",
       "\n",
       "#sk-container-id-3 a.estimator_doc_link.fitted:hover {\n",
       "  /* fitted */\n",
       "  background-color: var(--sklearn-color-fitted-level-3);\n",
       "}\n",
       "</style><div id=\"sk-container-id-3\" class=\"sk-top-container\"><div class=\"sk-text-repr-fallback\"><pre>GridSearchCV(cv=5, estimator=RandomForestClassifier(random_state=42),\n",
       "             param_grid={&#x27;max_depth&#x27;: [4, 6, 8, None],\n",
       "                         &#x27;min_samples_split&#x27;: [2, 5, 10],\n",
       "                         &#x27;n_estimators&#x27;: [50, 100, 150]},\n",
       "             scoring=&#x27;accuracy&#x27;)</pre><b>In a Jupyter environment, please rerun this cell to show the HTML representation or trust the notebook. <br />On GitHub, the HTML representation is unable to render, please try loading this page with nbviewer.org.</b></div><div class=\"sk-container\" hidden><div class=\"sk-item sk-dashed-wrapped\"><div class=\"sk-label-container\"><div class=\"sk-label fitted sk-toggleable\"><input class=\"sk-toggleable__control sk-hidden--visually\" id=\"sk-estimator-id-7\" type=\"checkbox\" ><label for=\"sk-estimator-id-7\" class=\"sk-toggleable__label fitted sk-toggleable__label-arrow fitted\">&nbsp;&nbsp;GridSearchCV<a class=\"sk-estimator-doc-link fitted\" rel=\"noreferrer\" target=\"_blank\" href=\"https://scikit-learn.org/1.5/modules/generated/sklearn.model_selection.GridSearchCV.html\">?<span>Documentation for GridSearchCV</span></a><span class=\"sk-estimator-doc-link fitted\">i<span>Fitted</span></span></label><div class=\"sk-toggleable__content fitted\"><pre>GridSearchCV(cv=5, estimator=RandomForestClassifier(random_state=42),\n",
       "             param_grid={&#x27;max_depth&#x27;: [4, 6, 8, None],\n",
       "                         &#x27;min_samples_split&#x27;: [2, 5, 10],\n",
       "                         &#x27;n_estimators&#x27;: [50, 100, 150]},\n",
       "             scoring=&#x27;accuracy&#x27;)</pre></div> </div></div><div class=\"sk-parallel\"><div class=\"sk-parallel-item\"><div class=\"sk-item\"><div class=\"sk-label-container\"><div class=\"sk-label fitted sk-toggleable\"><input class=\"sk-toggleable__control sk-hidden--visually\" id=\"sk-estimator-id-8\" type=\"checkbox\" ><label for=\"sk-estimator-id-8\" class=\"sk-toggleable__label fitted sk-toggleable__label-arrow fitted\">best_estimator_: RandomForestClassifier</label><div class=\"sk-toggleable__content fitted\"><pre>RandomForestClassifier(min_samples_split=5, n_estimators=50, random_state=42)</pre></div> </div></div><div class=\"sk-serial\"><div class=\"sk-item\"><div class=\"sk-estimator fitted sk-toggleable\"><input class=\"sk-toggleable__control sk-hidden--visually\" id=\"sk-estimator-id-9\" type=\"checkbox\" ><label for=\"sk-estimator-id-9\" class=\"sk-toggleable__label fitted sk-toggleable__label-arrow fitted\">&nbsp;RandomForestClassifier<a class=\"sk-estimator-doc-link fitted\" rel=\"noreferrer\" target=\"_blank\" href=\"https://scikit-learn.org/1.5/modules/generated/sklearn.ensemble.RandomForestClassifier.html\">?<span>Documentation for RandomForestClassifier</span></a></label><div class=\"sk-toggleable__content fitted\"><pre>RandomForestClassifier(min_samples_split=5, n_estimators=50, random_state=42)</pre></div> </div></div></div></div></div></div></div></div></div>"
      ],
      "text/plain": [
       "GridSearchCV(cv=5, estimator=RandomForestClassifier(random_state=42),\n",
       "             param_grid={'max_depth': [4, 6, 8, None],\n",
       "                         'min_samples_split': [2, 5, 10],\n",
       "                         'n_estimators': [50, 100, 150]},\n",
       "             scoring='accuracy')"
      ]
     },
     "execution_count": 135,
     "metadata": {},
     "output_type": "execute_result"
    }
   ],
   "source": [
    "param_grid = {\n",
    "    'n_estimators': [50, 100, 150],\n",
    "    'max_depth': [4, 6, 8, None],\n",
    "    'min_samples_split': [2, 5, 10]\n",
    "}\n",
    "\n",
    "rfc = RandomForestClassifier(random_state=42)\n",
    "\n",
    "grid_search = GridSearchCV(rfc, param_grid, cv=5, scoring='accuracy')\n",
    "\n",
    "grid_search.fit(X_train, y_train)"
   ]
  },
  {
   "cell_type": "code",
   "execution_count": 136,
   "id": "061e5391-ff31-4ea8-974e-39c0fdebf65f",
   "metadata": {},
   "outputs": [
    {
     "name": "stdout",
     "output_type": "stream",
     "text": [
      "Best Parameters: {'max_depth': None, 'min_samples_split': 5, 'n_estimators': 50}\n",
      "Best accuracy Score: 0.9299980482555625\n"
     ]
    }
   ],
   "source": [
    "print(\"Best Parameters:\", grid_search.best_params_)\n",
    "print(\"Best accuracy Score:\", grid_search.best_score_)"
   ]
  },
  {
   "cell_type": "code",
   "execution_count": null,
   "id": "04ef671a-309b-4bc9-992d-7d664974476e",
   "metadata": {},
   "outputs": [],
   "source": []
  },
  {
   "cell_type": "code",
   "execution_count": 137,
   "id": "16073b6f-73f8-433b-a45c-e81059688510",
   "metadata": {},
   "outputs": [
    {
     "data": {
      "text/plain": [
       "['adb_model.joblib']"
      ]
     },
     "execution_count": 137,
     "metadata": {},
     "output_type": "execute_result"
    }
   ],
   "source": [
    "joblib.dump(best_model,\"adb_model.joblib\")"
   ]
  },
  {
   "cell_type": "code",
   "execution_count": 138,
   "id": "36e49aaa-1321-4b5f-aa42-1b7fd5093768",
   "metadata": {},
   "outputs": [
    {
     "data": {
      "text/plain": [
       "['adb_model.joblib']"
      ]
     },
     "execution_count": 138,
     "metadata": {},
     "output_type": "execute_result"
    }
   ],
   "source": [
    "['adb_model.joblib']"
   ]
  },
  {
   "cell_type": "code",
   "execution_count": 139,
   "id": "563bfba6-e57d-4b33-8066-18db30fe5a69",
   "metadata": {},
   "outputs": [],
   "source": [
    "loded_model=joblib.load(\"adb_model.joblib\")"
   ]
  },
  {
   "cell_type": "markdown",
   "id": "8bcd5e58-4fc7-4bc3-a86e-392f01cc7c63",
   "metadata": {},
   "source": [
    "# Conclusion\n",
    "In this project, we developed a lung cancer prediction model using various machine learning algorithms on a real-world dataset. After preprocessing the data—handling missing values, treating outliers, and balancing classes with SMOTE—we evaluated several classification models including Logistic Regression, SVM, Decision Tree, Random Forest, Gradient Boosting, AdaBoost, Naive Bayes, K-Nearest Neighbors, and MLP Classifier.\n",
    "\n",
    "All models were evaluated using accuracy, classification reports, and confusion matrices. Among these, the best-performing model (based on accuracy) was:\n",
    "\n",
    "✅ [Ada Boost Classifeir] – This will be filled in once the final accuracy output is confirmed.\n",
    "\n",
    "This model demonstrated the highest ability to generalize to unseen test data, making it the most suitable for lung cancer prediction tasks in this context.\n",
    "\n",
    "The results highlight the importance of data preprocessing and model comparison in building robust predictive systems. Future improvements could include hyperparameter tuning, deeper feature engineering, and cross-validation for enhanced performance.\n",
    "\n"
   ]
  },
  {
   "cell_type": "code",
   "execution_count": null,
   "id": "c460b9a9-2ba1-4328-83a3-6765ddf093e0",
   "metadata": {},
   "outputs": [],
   "source": []
  }
 ],
 "metadata": {
  "kernelspec": {
   "display_name": "Python 3 (ipykernel)",
   "language": "python",
   "name": "python3"
  },
  "language_info": {
   "codemirror_mode": {
    "name": "ipython",
    "version": 3
   },
   "file_extension": ".py",
   "mimetype": "text/x-python",
   "name": "python",
   "nbconvert_exporter": "python",
   "pygments_lexer": "ipython3",
   "version": "3.12.7"
  }
 },
 "nbformat": 4,
 "nbformat_minor": 5
}
